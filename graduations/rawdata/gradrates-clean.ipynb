{
 "cells": [
  {
   "cell_type": "code",
   "execution_count": 1,
   "id": "bb698266-0c62-4a48-b21f-6fec2a6e95dd",
   "metadata": {},
   "outputs": [],
   "source": [
    "import pandas as pd"
   ]
  },
  {
   "cell_type": "code",
   "execution_count": 2,
   "id": "7323fd14-f015-40a0-8bb3-b7d8578aa3ca",
   "metadata": {},
   "outputs": [],
   "source": [
    "df = pd.read_csv('grad-rate-data2016-2021-RAW.csv')"
   ]
  },
  {
   "cell_type": "code",
   "execution_count": 3,
   "id": "395a3823-d183-4b69-8810-0d0e4df7ed3b",
   "metadata": {},
   "outputs": [],
   "source": [
    "nocol = df.drop(columns=['DGUID', 'UOM', 'UOM_ID', 'SCALAR_FACTOR', 'SCALAR_ID', 'VECTOR', 'COORDINATE', 'STATUS', 'SYMBOL', 'TERMINATED', 'DECIMALS'])\n",
    "cleaned_df = nocol.dropna(subset='VALUE')"
   ]
  },
  {
   "cell_type": "code",
   "execution_count": 4,
   "id": "24686d5f-3afe-4dd0-aa1a-09ee69e11026",
   "metadata": {},
   "outputs": [
    {
     "name": "stdout",
     "output_type": "stream",
     "text": [
      "      REF_DATE                    GEO Graduation rate         Gender  VALUE\n",
      "0    2016/2017                 Canada         On-time   Total gender   80.0\n",
      "1    2016/2017                 Canada         On-time    Male gender   76.0\n",
      "2    2016/2017                 Canada         On-time  Female gender   84.0\n",
      "3    2016/2017                 Canada   Extended-time   Total gender   87.0\n",
      "4    2016/2017                 Canada   Extended-time    Male gender   85.0\n",
      "..         ...                    ...             ...            ...    ...\n",
      "376  2020/2021       British Columbia   Extended-time    Male gender   88.0\n",
      "377  2020/2021       British Columbia   Extended-time  Female gender   91.0\n",
      "381  2020/2021  Northwest Territories   Extended-time   Total gender   51.0\n",
      "382  2020/2021  Northwest Territories   Extended-time    Male gender   44.0\n",
      "383  2020/2021  Northwest Territories   Extended-time  Female gender   57.0\n",
      "\n",
      "[342 rows x 5 columns]\n"
     ]
    }
   ],
   "source": [
    "print(cleaned_df)"
   ]
  },
  {
   "cell_type": "code",
   "execution_count": 5,
   "id": "f887e7f8-edba-48ba-a673-cbe4377904d6",
   "metadata": {},
   "outputs": [],
   "source": [
    "cleaned_df.to_csv('../cleandata/grad-data-clean.csv')"
   ]
  },
  {
   "cell_type": "code",
   "execution_count": null,
   "id": "ebc47c38-7d65-43a9-8afe-a0645eb66292",
   "metadata": {},
   "outputs": [],
   "source": []
  }
 ],
 "metadata": {
  "kernelspec": {
   "display_name": "Python 3 (ipykernel)",
   "language": "python",
   "name": "python3"
  },
  "language_info": {
   "codemirror_mode": {
    "name": "ipython",
    "version": 3
   },
   "file_extension": ".py",
   "mimetype": "text/x-python",
   "name": "python",
   "nbconvert_exporter": "python",
   "pygments_lexer": "ipython3",
   "version": "3.11.7"
  }
 },
 "nbformat": 4,
 "nbformat_minor": 5
}
