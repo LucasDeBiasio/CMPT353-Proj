{
 "cells": [
  {
   "cell_type": "code",
   "execution_count": 1,
   "id": "b2ac111f-9eac-439f-b9b6-c3d89ec6ab86",
   "metadata": {},
   "outputs": [],
   "source": [
    "import pandas as pd"
   ]
  },
  {
   "cell_type": "code",
   "execution_count": 2,
   "id": "e72ca435-a585-4698-aeee-b1a6f5448f60",
   "metadata": {},
   "outputs": [],
   "source": [
    "df = pd.read_csv('data/satisfaction-data-raw-updated.csv')"
   ]
  },
  {
   "cell_type": "code",
   "execution_count": 3,
   "id": "cff3ea80-7fae-4b07-a71e-73d4b3d50542",
   "metadata": {},
   "outputs": [
    {
     "name": "stdout",
     "output_type": "stream",
     "text": [
      "0       2021-04\n",
      "1       2021-07\n",
      "2       2021-10\n",
      "3       2022-01\n",
      "4       2022-04\n",
      "         ...   \n",
      "1165    2022-07\n",
      "1166    2022-10\n",
      "1167    2023-04\n",
      "1168    2023-07\n",
      "1169    2023-10\n",
      "Name: REF_DATE, Length: 1170, dtype: object\n"
     ]
    }
   ],
   "source": [
    "nocol = df.drop(columns=['DGUID', 'UOM', 'UOM_ID', 'SCALAR_FACTOR', 'SCALAR_ID', 'VECTOR', 'COORDINATE', 'STATUS', 'SYMBOL', 'TERMINATED', 'DECIMALS'])\n",
    "no_null = nocol.dropna(subset='VALUE')\n",
    "no_null['REF_DATE'] = no_null['REF_DATE'].astype(str)\n",
    "only_2020 = no_null[no_null['REF_DATE'].str.contains(r'^2020-')]\n",
    "cleaned_df = only_2020"
   ]
  },
  {
   "cell_type": "code",
   "execution_count": 4,
   "id": "7cec73ef-39be-4bd7-9a17-6fcae30d995c",
   "metadata": {},
   "outputs": [
    {
     "ename": "NameError",
     "evalue": "name 'cleaned_df' is not defined",
     "output_type": "error",
     "traceback": [
      "\u001b[0;31m---------------------------------------------------------------------------\u001b[0m",
      "\u001b[0;31mNameError\u001b[0m                                 Traceback (most recent call last)",
      "Cell \u001b[0;32mIn[4], line 1\u001b[0m\n\u001b[0;32m----> 1\u001b[0m \u001b[38;5;28mprint\u001b[39m(cleaned_df)\n\u001b[1;32m      2\u001b[0m cleaned_df\u001b[38;5;241m.\u001b[39minfo()\n",
      "\u001b[0;31mNameError\u001b[0m: name 'cleaned_df' is not defined"
     ]
    }
   ],
   "source": [
    "print(cleaned_df)\n",
    "cleaned_df.info()"
   ]
  },
  {
   "cell_type": "code",
   "execution_count": null,
   "id": "a8729779-a2ce-43a2-9405-13fc47ac911b",
   "metadata": {},
   "outputs": [],
   "source": [
    "cleaned_df.to_csv('data/satisfaction-data-clean-updated.csv')"
   ]
  },
  {
   "cell_type": "code",
   "execution_count": null,
   "id": "297cf94e-fd92-4c49-9f29-5dfdccfba320",
   "metadata": {},
   "outputs": [],
   "source": []
  }
 ],
 "metadata": {
  "kernelspec": {
   "display_name": "Python 3 (ipykernel)",
   "language": "python",
   "name": "python3"
  },
  "language_info": {
   "codemirror_mode": {
    "name": "ipython",
    "version": 3
   },
   "file_extension": ".py",
   "mimetype": "text/x-python",
   "name": "python",
   "nbconvert_exporter": "python",
   "pygments_lexer": "ipython3",
   "version": "3.11.7"
  }
 },
 "nbformat": 4,
 "nbformat_minor": 5
}
