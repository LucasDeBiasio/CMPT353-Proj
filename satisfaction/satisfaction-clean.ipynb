{
 "cells": [
  {
   "cell_type": "code",
   "execution_count": 1,
   "id": "b2ac111f-9eac-439f-b9b6-c3d89ec6ab86",
   "metadata": {},
   "outputs": [],
   "source": [
    "import pandas as pd"
   ]
  },
  {
   "cell_type": "code",
   "execution_count": 2,
   "id": "e72ca435-a585-4698-aeee-b1a6f5448f60",
   "metadata": {},
   "outputs": [],
   "source": [
    "df = pd.read_csv('satisfaction-data-raw.csv')"
   ]
  },
  {
   "cell_type": "code",
   "execution_count": 3,
   "id": "cff3ea80-7fae-4b07-a71e-73d4b3d50542",
   "metadata": {},
   "outputs": [],
   "source": [
    "nocol = df.drop(columns=['DGUID', 'UOM', 'UOM_ID', 'SCALAR_FACTOR', 'SCALAR_ID', 'VECTOR', 'COORDINATE', 'STATUS', 'SYMBOL', 'TERMINATED', 'DECIMALS'])\n",
    "cleaned_df = nocol.dropna(subset='VALUE')"
   ]
  },
  {
   "cell_type": "code",
   "execution_count": 4,
   "id": "7cec73ef-39be-4bd7-9a17-6fcae30d995c",
   "metadata": {},
   "outputs": [
    {
     "name": "stdout",
     "output_type": "stream",
     "text": [
      "    REF_DATE                             GEO              Gender  \\\n",
      "0    2024-01  Canada (excluding territories)  Total, all persons   \n",
      "1    2024-01  Canada (excluding territories)  Total, all persons   \n",
      "2    2024-01  Canada (excluding territories)  Total, all persons   \n",
      "3    2024-01  Canada (excluding territories)                 Men   \n",
      "4    2024-01  Canada (excluding territories)                 Men   \n",
      "..       ...                             ...                 ...   \n",
      "112  2024-01                British Columbia                 Men   \n",
      "113  2024-01                British Columbia                 Men   \n",
      "114  2024-01                British Columbia               Women   \n",
      "115  2024-01                British Columbia               Women   \n",
      "116  2024-01                British Columbia               Women   \n",
      "\n",
      "                                   Indicators             Statistics  VALUE  \n",
      "0    Life satisfaction rating between 0 and 5  Percentage of persons   21.7  \n",
      "1          Life satisfaction rating of 6 or 7  Percentage of persons   29.8  \n",
      "2      Life satisfaction rating of 8, 9 or 10  Percentage of persons   48.6  \n",
      "3    Life satisfaction rating between 0 and 5  Percentage of persons   22.3  \n",
      "4          Life satisfaction rating of 6 or 7  Percentage of persons   29.2  \n",
      "..                                        ...                    ...    ...  \n",
      "112        Life satisfaction rating of 6 or 7  Percentage of persons   32.1  \n",
      "113    Life satisfaction rating of 8, 9 or 10  Percentage of persons   46.5  \n",
      "114  Life satisfaction rating between 0 and 5  Percentage of persons   20.1  \n",
      "115        Life satisfaction rating of 6 or 7  Percentage of persons   32.3  \n",
      "116    Life satisfaction rating of 8, 9 or 10  Percentage of persons   47.6  \n",
      "\n",
      "[117 rows x 6 columns]\n"
     ]
    }
   ],
   "source": [
    "print(cleaned_df)"
   ]
  },
  {
   "cell_type": "code",
   "execution_count": 5,
   "id": "a8729779-a2ce-43a2-9405-13fc47ac911b",
   "metadata": {},
   "outputs": [],
   "source": [
    "cleaned_df.to_csv('satisfaction-data-clean.csv')"
   ]
  },
  {
   "cell_type": "code",
   "execution_count": null,
   "id": "297cf94e-fd92-4c49-9f29-5dfdccfba320",
   "metadata": {},
   "outputs": [],
   "source": []
  }
 ],
 "metadata": {
  "kernelspec": {
   "display_name": "Python 3 (ipykernel)",
   "language": "python",
   "name": "python3"
  },
  "language_info": {
   "codemirror_mode": {
    "name": "ipython",
    "version": 3
   },
   "file_extension": ".py",
   "mimetype": "text/x-python",
   "name": "python",
   "nbconvert_exporter": "python",
   "pygments_lexer": "ipython3",
   "version": "3.11.7"
  }
 },
 "nbformat": 4,
 "nbformat_minor": 5
}
