{
 "cells": [
  {
   "cell_type": "code",
   "execution_count": 1,
   "id": "b2ac111f-9eac-439f-b9b6-c3d89ec6ab86",
   "metadata": {},
   "outputs": [],
   "source": [
    "import pandas as pd"
   ]
  },
  {
   "cell_type": "code",
   "execution_count": 2,
   "id": "e72ca435-a585-4698-aeee-b1a6f5448f60",
   "metadata": {},
   "outputs": [],
   "source": [
    "df = pd.read_csv('data/satisfaction-data-raw-updated.csv')"
   ]
  },
  {
   "cell_type": "code",
   "execution_count": 3,
   "id": "cff3ea80-7fae-4b07-a71e-73d4b3d50542",
   "metadata": {},
   "outputs": [],
   "source": [
    "nocol = df.drop(columns=['DGUID', 'UOM', 'UOM_ID', 'SCALAR_FACTOR', 'SCALAR_ID', 'VECTOR', 'COORDINATE', 'STATUS', 'SYMBOL', 'TERMINATED', 'DECIMALS'])\n",
    "nonull = nocol.dropna(subset='VALUE')"
   ]
  },
  {
   "cell_type": "code",
   "execution_count": 4,
   "id": "7cec73ef-39be-4bd7-9a17-6fcae30d995c",
   "metadata": {},
   "outputs": [],
   "source": [
    "nonull['REF_DATE'] = pd.to_datetime(nonull['REF_DATE'])"
   ]
  },
  {
   "cell_type": "code",
   "execution_count": 5,
   "id": "a8729779-a2ce-43a2-9405-13fc47ac911b",
   "metadata": {},
   "outputs": [
    {
     "name": "stdout",
     "output_type": "stream",
     "text": [
      "       REF_DATE                             GEO              Gender  \\\n",
      "3    2022-01-01  Canada (excluding territories)  Total, all persons   \n",
      "4    2022-04-01  Canada (excluding territories)  Total, all persons   \n",
      "5    2022-07-01  Canada (excluding territories)  Total, all persons   \n",
      "6    2022-10-01  Canada (excluding territories)  Total, all persons   \n",
      "13   2022-01-01  Canada (excluding territories)  Total, all persons   \n",
      "...         ...                             ...                 ...   \n",
      "1156 2022-10-01                British Columbia               Women   \n",
      "1163 2022-01-01                British Columbia               Women   \n",
      "1164 2022-04-01                British Columbia               Women   \n",
      "1165 2022-07-01                British Columbia               Women   \n",
      "1166 2022-10-01                British Columbia               Women   \n",
      "\n",
      "                                    Indicators             Statistics  VALUE  \n",
      "3     Life satisfaction rating between 0 and 5  Percentage of persons   19.4  \n",
      "4     Life satisfaction rating between 0 and 5  Percentage of persons   19.2  \n",
      "5     Life satisfaction rating between 0 and 5  Percentage of persons   16.6  \n",
      "6     Life satisfaction rating between 0 and 5  Percentage of persons   23.9  \n",
      "13          Life satisfaction rating of 6 or 7  Percentage of persons   28.9  \n",
      "...                                        ...                    ...    ...  \n",
      "1156        Life satisfaction rating of 6 or 7  Percentage of persons   26.4  \n",
      "1163    Life satisfaction rating of 8, 9 or 10  Percentage of persons   40.8  \n",
      "1164    Life satisfaction rating of 8, 9 or 10  Percentage of persons   43.2  \n",
      "1165    Life satisfaction rating of 8, 9 or 10  Percentage of persons   55.0  \n",
      "1166    Life satisfaction rating of 8, 9 or 10  Percentage of persons   43.1  \n",
      "\n",
      "[468 rows x 6 columns]\n"
     ]
    }
   ],
   "source": [
    "cleaned_df = nonull[nonull['REF_DATE'].dt.year == 2022]\n",
    "print(cleaned_df)"
   ]
  },
  {
   "cell_type": "code",
   "execution_count": 6,
   "id": "fafed21c-d3df-4ddb-8319-9dfdb396f625",
   "metadata": {},
   "outputs": [],
   "source": [
    "cleaned_df.to_csv('data/satisfaction-data-clean-updated.csv')"
   ]
  }
 ],
 "metadata": {
  "kernelspec": {
   "display_name": "Python 3 (ipykernel)",
   "language": "python",
   "name": "python3"
  },
  "language_info": {
   "codemirror_mode": {
    "name": "ipython",
    "version": 3
   },
   "file_extension": ".py",
   "mimetype": "text/x-python",
   "name": "python",
   "nbconvert_exporter": "python",
   "pygments_lexer": "ipython3",
   "version": "3.11.7"
  }
 },
 "nbformat": 4,
 "nbformat_minor": 5
}
