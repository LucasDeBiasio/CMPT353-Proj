{
 "cells": [
  {
   "cell_type": "code",
   "execution_count": 1,
   "id": "b2ac111f-9eac-439f-b9b6-c3d89ec6ab86",
   "metadata": {},
   "outputs": [],
   "source": [
    "import pandas as pd"
   ]
  },
  {
   "cell_type": "code",
   "execution_count": 2,
   "id": "e72ca435-a585-4698-aeee-b1a6f5448f60",
   "metadata": {},
   "outputs": [],
   "source": [
    "df = pd.read_csv('data/satisfaction-data-raw-updated.csv')"
   ]
  },
  {
   "cell_type": "code",
   "execution_count": 3,
   "id": "cff3ea80-7fae-4b07-a71e-73d4b3d50542",
   "metadata": {},
   "outputs": [],
   "source": [
    "nocol = df.drop(columns=['DGUID', 'UOM', 'UOM_ID', 'SCALAR_FACTOR', 'SCALAR_ID', 'VECTOR', 'COORDINATE', 'STATUS', 'SYMBOL', 'TERMINATED', 'DECIMALS'])\n",
    "no_null = nocol.dropna(subset='VALUE')\n",
    "no_null['REF_DATE'] = no_null['REF_DATE'].astype(str)\n",
    "only_2020 = no_null[no_null['REF_DATE'].str.contains(r'^2020-')]\n",
    "cleaned_df = only_2020"
   ]
  },
  {
   "cell_type": "code",
   "execution_count": 4,
   "id": "7cec73ef-39be-4bd7-9a17-6fcae30d995c",
   "metadata": {},
   "outputs": [
    {
     "name": "stdout",
     "output_type": "stream",
     "text": [
      "Empty DataFrame\n",
      "Columns: [REF_DATE, GEO, Gender, Indicators, Statistics, VALUE]\n",
      "Index: []\n"
     ]
    }
   ],
   "source": [
    "print(only_2020)"
   ]
  },
  {
   "cell_type": "code",
   "execution_count": 5,
   "id": "a8729779-a2ce-43a2-9405-13fc47ac911b",
   "metadata": {},
   "outputs": [],
   "source": [
    "cleaned_df.to_csv('data/satisfaction-data-clean-updated.csv')"
   ]
  },
  {
   "cell_type": "code",
   "execution_count": null,
   "id": "297cf94e-fd92-4c49-9f29-5dfdccfba320",
   "metadata": {},
   "outputs": [],
   "source": []
  }
 ],
 "metadata": {
  "kernelspec": {
   "display_name": "Python 3 (ipykernel)",
   "language": "python",
   "name": "python3"
  },
  "language_info": {
   "codemirror_mode": {
    "name": "ipython",
    "version": 3
   },
   "file_extension": ".py",
   "mimetype": "text/x-python",
   "name": "python",
   "nbconvert_exporter": "python",
   "pygments_lexer": "ipython3",
   "version": "3.11.7"
  }
 },
 "nbformat": 4,
 "nbformat_minor": 5
}
