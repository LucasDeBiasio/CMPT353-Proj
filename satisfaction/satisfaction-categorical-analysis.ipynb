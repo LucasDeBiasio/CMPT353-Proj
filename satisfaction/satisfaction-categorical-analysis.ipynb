{
 "cells": [
  {
   "cell_type": "code",
   "execution_count": 1,
   "id": "0e0b90a6-a986-4396-9f5b-64011be227a2",
   "metadata": {},
   "outputs": [],
   "source": [
    "import pandas as pd\n",
    "import numpy as np\n",
    "import matplotlib.pyplot as plt\n",
    "from scipy.stats import chi2_contingency\n",
    "import statsmodels.api as sm\n",
    "from statsmodels.formula.api import ols"
   ]
  },
  {
   "cell_type": "code",
   "execution_count": 2,
   "id": "58f299af-0914-440f-836b-03a8895ee516",
   "metadata": {},
   "outputs": [],
   "source": [
    "satisfaction_data = pd.read_csv('data/satisfaction-data-clean-updated.csv')"
   ]
  },
  {
   "cell_type": "code",
   "execution_count": 3,
   "id": "d44a69ee-0225-414a-9e4c-8edf64fb6149",
   "metadata": {},
   "outputs": [],
   "source": [
    "satisfaction_data_gender = satisfaction_data[satisfaction_data['GEO'] == 'Canada (excluding territories)']"
   ]
  },
  {
   "cell_type": "code",
   "execution_count": 4,
   "id": "aeef9d16-abdd-473b-99ab-b6e72776e9f3",
   "metadata": {},
   "outputs": [],
   "source": [
    "satisfaction_data_gender = satisfaction_data_gender[satisfaction_data_gender['Gender'] != 'Total, all persons']"
   ]
  },
  {
   "cell_type": "code",
   "execution_count": 5,
   "id": "a38156f4-7ebb-4861-a6b0-720e14c7e723",
   "metadata": {},
   "outputs": [],
   "source": [
    "satisfaction_data_gender = satisfaction_data_gender.groupby(['Indicators', 'Gender']).agg({'VALUE':'mean'})"
   ]
  },
  {
   "cell_type": "code",
   "execution_count": 6,
   "id": "5bd48b96-54d6-46fc-8fb1-42397b2bb1e7",
   "metadata": {},
   "outputs": [
    {
     "name": "stdout",
     "output_type": "stream",
     "text": [
      "                                                  VALUE\n",
      "Indicators                               Gender        \n",
      "Life satisfaction rating between 0 and 5 Men     19.350\n",
      "                                         Women   20.150\n",
      "Life satisfaction rating of 6 or 7       Men     29.075\n",
      "                                         Women   29.325\n",
      "Life satisfaction rating of 8, 9 or 10   Men     51.600\n",
      "                                         Women   50.500\n"
     ]
    }
   ],
   "source": [
    "print(satisfaction_data_gender)"
   ]
  },
  {
   "cell_type": "code",
   "execution_count": 7,
   "id": "dc07a877-5ce5-4e04-b8a7-08f876b37bcc",
   "metadata": {},
   "outputs": [],
   "source": [
    "satisfaction_data_prov = satisfaction_data[satisfaction_data['Gender'] == 'Total, all persons']"
   ]
  },
  {
   "cell_type": "code",
   "execution_count": 8,
   "id": "faebd428-f92e-4670-b95d-fea534b25c52",
   "metadata": {},
   "outputs": [],
   "source": [
    "satisfaction_data_prov = satisfaction_data_prov[satisfaction_data_prov['GEO'] != 'Atlantic Region']"
   ]
  },
  {
   "cell_type": "code",
   "execution_count": 9,
   "id": "13b318d8-7a69-441e-8f5a-242e10633146",
   "metadata": {},
   "outputs": [],
   "source": [
    "satisfaction_data_prov = satisfaction_data_prov[satisfaction_data_prov['GEO'] != 'Prairies Region']"
   ]
  },
  {
   "cell_type": "code",
   "execution_count": 10,
   "id": "e895e27d-8a7b-4b31-9a03-44979cd0d841",
   "metadata": {},
   "outputs": [],
   "source": [
    "satisfaction_data_prov = satisfaction_data_prov[satisfaction_data_prov['GEO'] != 'Canada (excluding territories)']"
   ]
  },
  {
   "cell_type": "code",
   "execution_count": 11,
   "id": "0d5b3ffb-ac6d-4c72-841d-60c9fe5cbfc3",
   "metadata": {},
   "outputs": [],
   "source": [
    "satisfaction_data_prov = satisfaction_data_prov.groupby(['Indicators', 'GEO']).agg({'VALUE':'mean'}).reset_index()"
   ]
  },
  {
   "cell_type": "code",
   "execution_count": 12,
   "id": "15c588fb-375b-42ef-a96c-4255c43e04e2",
   "metadata": {},
   "outputs": [
    {
     "name": "stdout",
     "output_type": "stream",
     "text": [
      "                                  Indicators                        GEO  \\\n",
      "0   Life satisfaction rating between 0 and 5                    Alberta   \n",
      "1   Life satisfaction rating between 0 and 5           British Columbia   \n",
      "2   Life satisfaction rating between 0 and 5                   Manitoba   \n",
      "3   Life satisfaction rating between 0 and 5              New Brunswick   \n",
      "4   Life satisfaction rating between 0 and 5  Newfoundland and Labrador   \n",
      "5   Life satisfaction rating between 0 and 5                Nova Scotia   \n",
      "6   Life satisfaction rating between 0 and 5                    Ontario   \n",
      "7   Life satisfaction rating between 0 and 5       Prince Edward Island   \n",
      "8   Life satisfaction rating between 0 and 5                     Quebec   \n",
      "9   Life satisfaction rating between 0 and 5               Saskatchewan   \n",
      "10        Life satisfaction rating of 6 or 7                    Alberta   \n",
      "11        Life satisfaction rating of 6 or 7           British Columbia   \n",
      "12        Life satisfaction rating of 6 or 7                   Manitoba   \n",
      "13        Life satisfaction rating of 6 or 7              New Brunswick   \n",
      "14        Life satisfaction rating of 6 or 7  Newfoundland and Labrador   \n",
      "15        Life satisfaction rating of 6 or 7                Nova Scotia   \n",
      "16        Life satisfaction rating of 6 or 7                    Ontario   \n",
      "17        Life satisfaction rating of 6 or 7       Prince Edward Island   \n",
      "18        Life satisfaction rating of 6 or 7                     Quebec   \n",
      "19        Life satisfaction rating of 6 or 7               Saskatchewan   \n",
      "20    Life satisfaction rating of 8, 9 or 10                    Alberta   \n",
      "21    Life satisfaction rating of 8, 9 or 10           British Columbia   \n",
      "22    Life satisfaction rating of 8, 9 or 10                   Manitoba   \n",
      "23    Life satisfaction rating of 8, 9 or 10              New Brunswick   \n",
      "24    Life satisfaction rating of 8, 9 or 10  Newfoundland and Labrador   \n",
      "25    Life satisfaction rating of 8, 9 or 10                Nova Scotia   \n",
      "26    Life satisfaction rating of 8, 9 or 10                    Ontario   \n",
      "27    Life satisfaction rating of 8, 9 or 10       Prince Edward Island   \n",
      "28    Life satisfaction rating of 8, 9 or 10                     Quebec   \n",
      "29    Life satisfaction rating of 8, 9 or 10               Saskatchewan   \n",
      "\n",
      "     VALUE  \n",
      "0   20.650  \n",
      "1   22.400  \n",
      "2   19.275  \n",
      "3   20.175  \n",
      "4   15.950  \n",
      "5   21.300  \n",
      "6   22.225  \n",
      "7   15.575  \n",
      "8   13.800  \n",
      "9   18.000  \n",
      "10  29.900  \n",
      "11  30.500  \n",
      "12  27.525  \n",
      "13  25.625  \n",
      "14  26.650  \n",
      "15  27.450  \n",
      "16  30.325  \n",
      "17  26.500  \n",
      "18  26.925  \n",
      "19  30.100  \n",
      "20  49.475  \n",
      "21  47.050  \n",
      "22  53.200  \n",
      "23  54.200  \n",
      "24  57.350  \n",
      "25  51.275  \n",
      "26  47.450  \n",
      "27  57.900  \n",
      "28  59.275  \n",
      "29  51.900  \n"
     ]
    }
   ],
   "source": [
    "print(satisfaction_data_prov)"
   ]
  },
  {
   "cell_type": "code",
   "execution_count": 13,
   "id": "de26b039-ec8c-4116-8bb3-a0369511100f",
   "metadata": {},
   "outputs": [],
   "source": [
    "contingency_table = pd.crosstab(index=[satisfaction_data_prov['Indicators'], satisfaction_data_prov['VALUE']], columns=satisfaction_data_prov['GEO'])"
   ]
  },
  {
   "cell_type": "code",
   "execution_count": 14,
   "id": "60b8cccd-43e7-4d1b-880a-4473b0dcb4fc",
   "metadata": {},
   "outputs": [],
   "source": [
    "res = chi2_contingency(contingency_table)"
   ]
  },
  {
   "cell_type": "code",
   "execution_count": 15,
   "id": "042b712b-2344-4109-80b4-c05aa3dc9d21",
   "metadata": {},
   "outputs": [
    {
     "name": "stdout",
     "output_type": "stream",
     "text": [
      "0.33776078080894123\n"
     ]
    }
   ],
   "source": [
    "print(res.pvalue)"
   ]
  }
 ],
 "metadata": {
  "kernelspec": {
   "display_name": "Python 3 (ipykernel)",
   "language": "python",
   "name": "python3"
  },
  "language_info": {
   "codemirror_mode": {
    "name": "ipython",
    "version": 3
   },
   "file_extension": ".py",
   "mimetype": "text/x-python",
   "name": "python",
   "nbconvert_exporter": "python",
   "pygments_lexer": "ipython3",
   "version": "3.11.7"
  }
 },
 "nbformat": 4,
 "nbformat_minor": 5
}
