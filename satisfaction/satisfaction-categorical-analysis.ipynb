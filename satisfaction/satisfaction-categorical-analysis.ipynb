{
 "cells": [
  {
   "cell_type": "code",
   "execution_count": null,
   "id": "0e0b90a6-a986-4396-9f5b-64011be227a2",
   "metadata": {},
   "outputs": [],
   "source": [
    "import pandas as pd\n",
    "import numpy as np\n",
    "import matplotlib.pyplot as plt\n",
    "from scipy.stats import chi2_contingency"
   ]
  },
  {
   "cell_type": "code",
   "execution_count": null,
   "id": "58f299af-0914-440f-836b-03a8895ee516",
   "metadata": {},
   "outputs": [],
   "source": [
    "satisfaction_data = pd.read_csv('data/satisfaction-data-clean-updated.csv')"
   ]
  },
  {
   "cell_type": "code",
   "execution_count": null,
   "id": "d44a69ee-0225-414a-9e4c-8edf64fb6149",
   "metadata": {},
   "outputs": [],
   "source": [
    "satisfaction_data_gender = satisfaction_data[satisfaction_data['GEO'] == 'Canada (excluding territories)']"
   ]
  },
  {
   "cell_type": "code",
   "execution_count": null,
   "id": "aeef9d16-abdd-473b-99ab-b6e72776e9f3",
   "metadata": {},
   "outputs": [],
   "source": [
    "satisfaction_data_gender = satisfaction_data_gender[satisfaction_data_gender['Gender'] != 'Total, all persons']"
   ]
  },
  {
   "cell_type": "code",
   "execution_count": null,
   "id": "a38156f4-7ebb-4861-a6b0-720e14c7e723",
   "metadata": {},
   "outputs": [],
   "source": [
    "satisfaction_data_gender = satisfaction_data_gender.groupby(['Indicators', 'Gender']).agg({'VALUE':'mean'})"
   ]
  },
  {
   "cell_type": "code",
   "execution_count": null,
   "id": "5bd48b96-54d6-46fc-8fb1-42397b2bb1e7",
   "metadata": {},
   "outputs": [],
   "source": [
    "print(satisfaction_data_gender)"
   ]
  },
  {
   "cell_type": "code",
   "execution_count": null,
   "id": "dc07a877-5ce5-4e04-b8a7-08f876b37bcc",
   "metadata": {},
   "outputs": [],
   "source": [
    "satisfaction_data_prov = satisfaction_data[satisfaction_data['Gender'] == 'Total, all persons']"
   ]
  },
  {
   "cell_type": "code",
   "execution_count": null,
   "id": "faebd428-f92e-4670-b95d-fea534b25c52",
   "metadata": {},
   "outputs": [],
   "source": [
    "satisfaction_data_prov = satisfaction_data_prov[satisfaction_data_prov['GEO'] != 'Atlantic Region']"
   ]
  },
  {
   "cell_type": "code",
   "execution_count": null,
   "id": "13b318d8-7a69-441e-8f5a-242e10633146",
   "metadata": {},
   "outputs": [],
   "source": [
    "satisfaction_data_prov = satisfaction_data_prov[satisfaction_data_prov['GEO'] != 'Prairies Region']"
   ]
  },
  {
   "cell_type": "code",
   "execution_count": null,
   "id": "e895e27d-8a7b-4b31-9a03-44979cd0d841",
   "metadata": {},
   "outputs": [],
   "source": [
    "satisfaction_data_prov = satisfaction_data_prov[satisfaction_data_prov['GEO'] != 'Canada (excluding territories)']"
   ]
  },
  {
   "cell_type": "code",
   "execution_count": null,
   "id": "0d5b3ffb-ac6d-4c72-841d-60c9fe5cbfc3",
   "metadata": {},
   "outputs": [],
   "source": [
    "satisfaction_data_prov = satisfaction_data_prov.groupby(['Indicators', 'GEO']).agg({'VALUE':'mean'}).reset_index()"
   ]
  },
  {
   "cell_type": "code",
   "execution_count": null,
   "id": "15c588fb-375b-42ef-a96c-4255c43e04e2",
   "metadata": {},
   "outputs": [],
   "source": [
    "print(satisfaction_data_prov)"
   ]
  },
  {
   "cell_type": "code",
   "execution_count": null,
   "id": "de26b039-ec8c-4116-8bb3-a0369511100f",
   "metadata": {},
   "outputs": [],
   "source": [
    "contingency_table = pd.crosstab(index=[satisfaction_data_prov['Indicators'], satisfaction_data_prov['VALUE']], columns=satisfaction_data_prov['GEO'])"
   ]
  },
  {
   "cell_type": "code",
   "execution_count": null,
   "id": "60b8cccd-43e7-4d1b-880a-4473b0dcb4fc",
   "metadata": {},
   "outputs": [],
   "source": [
    "res = chi2_contingency(contingency_table)"
   ]
  },
  {
   "cell_type": "code",
   "execution_count": null,
   "id": "042b712b-2344-4109-80b4-c05aa3dc9d21",
   "metadata": {},
   "outputs": [],
   "source": [
    "print(res.pvalue)"
   ]
  }
 ],
 "metadata": {
  "kernelspec": {
   "display_name": "Python 3 (ipykernel)",
   "language": "python",
   "name": "python3"
  },
  "language_info": {
   "codemirror_mode": {
    "name": "ipython",
    "version": 3
   },
   "file_extension": ".py",
   "mimetype": "text/x-python",
   "name": "python",
   "nbconvert_exporter": "python",
   "pygments_lexer": "ipython3",
   "version": "3.11.7"
  }
 },
 "nbformat": 4,
 "nbformat_minor": 5
}
