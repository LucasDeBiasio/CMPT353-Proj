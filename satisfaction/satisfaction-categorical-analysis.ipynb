{
 "cells": [
  {
   "cell_type": "code",
   "execution_count": 1,
   "id": "0e0b90a6-a986-4396-9f5b-64011be227a2",
   "metadata": {},
   "outputs": [],
   "source": [
    "import pandas as pd\n",
    "import numpy as np\n",
    "import matplotlib.pyplot as plt\n",
    "from scipy.stats import chi2_contingency"
   ]
  },
  {
   "cell_type": "code",
   "execution_count": 2,
   "id": "58f299af-0914-440f-836b-03a8895ee516",
   "metadata": {},
   "outputs": [],
   "source": [
    "satisfaction_data = pd.read_csv('data/satisfaction-data-clean-updated.csv')"
   ]
  },
  {
   "cell_type": "code",
   "execution_count": 3,
   "id": "d44a69ee-0225-414a-9e4c-8edf64fb6149",
   "metadata": {},
   "outputs": [
    {
     "name": "stdout",
     "output_type": "stream",
     "text": [
      "      Unnamed: 0 REF_DATE                             GEO              Gender  \\\n",
      "0              0  2021-04  Canada (excluding territories)  Total, all persons   \n",
      "1              1  2021-07  Canada (excluding territories)  Total, all persons   \n",
      "2              2  2021-10  Canada (excluding territories)  Total, all persons   \n",
      "3              3  2022-01  Canada (excluding territories)  Total, all persons   \n",
      "4              4  2022-04  Canada (excluding territories)  Total, all persons   \n",
      "...          ...      ...                             ...                 ...   \n",
      "1165        1165  2022-07                British Columbia               Women   \n",
      "1166        1166  2022-10                British Columbia               Women   \n",
      "1167        1167  2023-04                British Columbia               Women   \n",
      "1168        1168  2023-07                British Columbia               Women   \n",
      "1169        1169  2023-10                British Columbia               Women   \n",
      "\n",
      "                                    Indicators             Statistics  VALUE  \n",
      "0     Life satisfaction rating between 0 and 5  Percentage of persons   27.4  \n",
      "1     Life satisfaction rating between 0 and 5  Percentage of persons   17.3  \n",
      "2     Life satisfaction rating between 0 and 5  Percentage of persons   19.2  \n",
      "3     Life satisfaction rating between 0 and 5  Percentage of persons   19.4  \n",
      "4     Life satisfaction rating between 0 and 5  Percentage of persons   19.2  \n",
      "...                                        ...                    ...    ...  \n",
      "1165    Life satisfaction rating of 8, 9 or 10  Percentage of persons   55.0  \n",
      "1166    Life satisfaction rating of 8, 9 or 10  Percentage of persons   43.1  \n",
      "1167    Life satisfaction rating of 8, 9 or 10  Percentage of persons   51.5  \n",
      "1168    Life satisfaction rating of 8, 9 or 10  Percentage of persons   47.3  \n",
      "1169    Life satisfaction rating of 8, 9 or 10  Percentage of persons   46.1  \n",
      "\n",
      "[1170 rows x 7 columns]\n"
     ]
    }
   ],
   "source": [
    "satisfaction_data = "
   ]
  },
  {
   "cell_type": "code",
   "execution_count": null,
   "id": "f7747246-9f96-45a0-b2b9-acd2b605decd",
   "metadata": {},
   "outputs": [],
   "source": []
  }
 ],
 "metadata": {
  "kernelspec": {
   "display_name": "Python 3 (ipykernel)",
   "language": "python",
   "name": "python3"
  },
  "language_info": {
   "codemirror_mode": {
    "name": "ipython",
    "version": 3
   },
   "file_extension": ".py",
   "mimetype": "text/x-python",
   "name": "python",
   "nbconvert_exporter": "python",
   "pygments_lexer": "ipython3",
   "version": "3.11.7"
  }
 },
 "nbformat": 4,
 "nbformat_minor": 5
}
