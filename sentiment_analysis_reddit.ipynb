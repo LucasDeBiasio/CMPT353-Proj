{
 "cells": [
  {
   "cell_type": "code",
   "execution_count": 1,
   "id": "78b5279a-1db5-41a7-a235-22dbd0782997",
   "metadata": {},
   "outputs": [],
   "source": [
    "import pandas as pd\n",
    "from nltk.sentiment.vader import SentimentIntensityAnalyzer\n",
    "import numpy as np\n",
    "import glob"
   ]
  },
  {
   "cell_type": "code",
   "execution_count": 2,
   "id": "ca0b21d2-90d8-40b8-8d5c-0fe693b88e94",
   "metadata": {},
   "outputs": [],
   "source": [
    "sia = SentimentIntensityAnalyzer()"
   ]
  },
  {
   "cell_type": "code",
   "execution_count": 3,
   "id": "f75c36d2-1c6a-4c8a-93fb-5d8fe8bdc131",
   "metadata": {},
   "outputs": [],
   "source": [
    "filenames = glob.glob('reddit-subset2\\submissions\\part-*.json.gz')\n",
    "ind_df = (pd.read_json(f, lines=True) for f in filenames)\n",
    "df = pd.concat(ind_df, ignore_index=True)\n",
    "df = df[(df['selftext'] != '[removed]') & (df['selftext'] != '[deleted]') & (df['subreddit'] != 'Quebec')]"
   ]
  },
  {
   "cell_type": "code",
   "execution_count": 4,
   "id": "84c38923-c8f7-4f69-b91f-6c088951b32f",
   "metadata": {},
   "outputs": [],
   "source": [
    "def get_score(input):\n",
    "    scores = sia.polarity_scores(input)\n",
    "    return scores['compound']"
   ]
  },
  {
   "cell_type": "code",
   "execution_count": 5,
   "id": "4957fb1d-d214-4a26-bf18-57622274afb7",
   "metadata": {},
   "outputs": [],
   "source": [
    "get_scores = np.vectorize(get_score)"
   ]
  },
  {
   "cell_type": "code",
   "execution_count": 6,
   "id": "616e875c-da47-4532-ac62-22d38221da28",
   "metadata": {},
   "outputs": [],
   "source": [
    "df['score'] = get_scores(df['selftext'])"
   ]
  },
  {
   "cell_type": "code",
   "execution_count": 7,
   "id": "f1a5f1d9-55d0-4d79-824f-7de7735a5318",
   "metadata": {},
   "outputs": [],
   "source": [
    "sentiment_score_annual = df.groupby(['subreddit', 'year']).agg({'score': 'mean'})"
   ]
  },
  {
   "cell_type": "code",
   "execution_count": 8,
   "id": "f3967993-4bff-4b78-bec6-83e3a1d97529",
   "metadata": {},
   "outputs": [],
   "source": [
    "sentiment_score_annual.to_csv('sentiment_score_annual.csv')"
   ]
  },
  {
   "cell_type": "code",
   "execution_count": 10,
   "id": "c9b53491-ee75-43d7-8d40-d338eb0300dc",
   "metadata": {},
   "outputs": [],
   "source": [
    "sentiment_score_quarterly = df"
   ]
  },
  {
   "cell_type": "code",
   "execution_count": 11,
   "id": "d2ebb645-eaad-421b-b211-fd7c32d39254",
   "metadata": {},
   "outputs": [],
   "source": [
    "sentiment_score_quarterly['date'] = pd.to_datetime(df['year'].astype(str) + df['month'].astype(str), format='%Y%m')"
   ]
  },
  {
   "cell_type": "code",
   "execution_count": 13,
   "id": "aaf056c0-fa29-4abd-8a10-676179859d6f",
   "metadata": {},
   "outputs": [
    {
     "data": {
      "text/html": [
       "<div>\n",
       "<style scoped>\n",
       "    .dataframe tbody tr th:only-of-type {\n",
       "        vertical-align: middle;\n",
       "    }\n",
       "\n",
       "    .dataframe tbody tr th {\n",
       "        vertical-align: top;\n",
       "    }\n",
       "\n",
       "    .dataframe thead th {\n",
       "        text-align: right;\n",
       "    }\n",
       "</style>\n",
       "<table border=\"1\" class=\"dataframe\">\n",
       "  <thead>\n",
       "    <tr style=\"text-align: right;\">\n",
       "      <th></th>\n",
       "      <th></th>\n",
       "      <th>score</th>\n",
       "    </tr>\n",
       "    <tr>\n",
       "      <th>subreddit</th>\n",
       "      <th>date</th>\n",
       "      <th></th>\n",
       "    </tr>\n",
       "  </thead>\n",
       "  <tbody>\n",
       "    <tr>\n",
       "      <th rowspan=\"5\" valign=\"top\">Manitoba</th>\n",
       "      <th>2016Q1</th>\n",
       "      <td>0.525941</td>\n",
       "    </tr>\n",
       "    <tr>\n",
       "      <th>2016Q2</th>\n",
       "      <td>0.255661</td>\n",
       "    </tr>\n",
       "    <tr>\n",
       "      <th>2016Q3</th>\n",
       "      <td>0.538294</td>\n",
       "    </tr>\n",
       "    <tr>\n",
       "      <th>2016Q4</th>\n",
       "      <td>0.538191</td>\n",
       "    </tr>\n",
       "    <tr>\n",
       "      <th>2017Q1</th>\n",
       "      <td>0.451412</td>\n",
       "    </tr>\n",
       "    <tr>\n",
       "      <th>...</th>\n",
       "      <th>...</th>\n",
       "      <td>...</td>\n",
       "    </tr>\n",
       "    <tr>\n",
       "      <th rowspan=\"5\" valign=\"top\">saskatchewan</th>\n",
       "      <th>2022Q1</th>\n",
       "      <td>0.288574</td>\n",
       "    </tr>\n",
       "    <tr>\n",
       "      <th>2022Q2</th>\n",
       "      <td>0.310727</td>\n",
       "    </tr>\n",
       "    <tr>\n",
       "      <th>2022Q3</th>\n",
       "      <td>0.275282</td>\n",
       "    </tr>\n",
       "    <tr>\n",
       "      <th>2022Q4</th>\n",
       "      <td>0.287658</td>\n",
       "    </tr>\n",
       "    <tr>\n",
       "      <th>2023Q1</th>\n",
       "      <td>0.258810</td>\n",
       "    </tr>\n",
       "  </tbody>\n",
       "</table>\n",
       "<p>348 rows × 1 columns</p>\n",
       "</div>"
      ],
      "text/plain": [
       "                        score\n",
       "subreddit    date            \n",
       "Manitoba     2016Q1  0.525941\n",
       "             2016Q2  0.255661\n",
       "             2016Q3  0.538294\n",
       "             2016Q4  0.538191\n",
       "             2017Q1  0.451412\n",
       "...                       ...\n",
       "saskatchewan 2022Q1  0.288574\n",
       "             2022Q2  0.310727\n",
       "             2022Q3  0.275282\n",
       "             2022Q4  0.287658\n",
       "             2023Q1  0.258810\n",
       "\n",
       "[348 rows x 1 columns]"
      ]
     },
     "execution_count": 13,
     "metadata": {},
     "output_type": "execute_result"
    }
   ],
   "source": [
    "sentiment_score_quarterly.groupby(['subreddit', sentiment_score_quarterly['date'].dt.to_period('Q')]).agg({'score': 'mean'})"
   ]
  },
  {
   "cell_type": "code",
   "execution_count": 14,
   "id": "14116150-8ab2-4ce8-a10b-ef3452032800",
   "metadata": {},
   "outputs": [],
   "source": [
    "sentiment_score_quarterly.to_csv('sentiment_score_quarterly.csv')"
   ]
  }
 ],
 "metadata": {
  "kernelspec": {
   "display_name": "Python 3 (ipykernel)",
   "language": "python",
   "name": "python3"
  },
  "language_info": {
   "codemirror_mode": {
    "name": "ipython",
    "version": 3
   },
   "file_extension": ".py",
   "mimetype": "text/x-python",
   "name": "python",
   "nbconvert_exporter": "python",
   "pygments_lexer": "ipython3",
   "version": "3.11.7"
  }
 },
 "nbformat": 4,
 "nbformat_minor": 5
}
