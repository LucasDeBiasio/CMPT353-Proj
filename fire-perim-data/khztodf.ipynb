{
 "cells": [
  {
   "cell_type": "code",
   "execution_count": 1,
   "id": "d36fa527-1cc1-4407-b409-1fea6736ea1c",
   "metadata": {},
   "outputs": [],
   "source": [
    "import pandas as pd\n",
    "import zipfile\n",
    "import os\n",
    "import geopandas as gpd"
   ]
  },
  {
   "cell_type": "code",
   "execution_count": 2,
   "id": "8a1cb135-5c9a-4b3e-822f-d5ece33e9c04",
   "metadata": {},
   "outputs": [],
   "source": [
    "def kmztokml(kmz_path, extract_path):\n",
    "    with zipfile.ZipFile(kmz_path, 'r') as kmz:\n",
    "        kmz.extractall(extract_path)\n",
    "        for file in kmz.namelist():\n",
    "            if file.endswith('.kml'):\n",
    "                return os.path.join(extract_path, file)\n",
    "    raise FileNotFoundError(\"No KML file found in KMZ archive\")"
   ]
  },
  {
   "cell_type": "code",
   "execution_count": 3,
   "id": "d45011d3-d3cd-4171-ab2b-c322b51b52c8",
   "metadata": {},
   "outputs": [],
   "source": [
    "def kmltogeodf(kml_path, layer=None):\n",
    "    return gpd.read_file(kml_path, driver='KML', layer=layer)"
   ]
  },
  {
   "cell_type": "code",
   "execution_count": 4,
   "id": "a58b4534-98ed-4253-be47-334281a8f4bd",
   "metadata": {},
   "outputs": [],
   "source": [
    "def geodftodf(geodf):\n",
    "    return pd.DataFrame(geodf)"
   ]
  },
  {
   "cell_type": "code",
   "execution_count": 5,
   "id": "b3254410-e239-432b-9477-bfb93deb59ad",
   "metadata": {},
   "outputs": [],
   "source": [
    "project_dir = os.path.abspath(os.path.join(os.getcwd(), \"..\"))\n",
    "kmz_path = os.path.join(project_dir, 'fire-perim-data/kmz', 'BC-Fire-Points13-15.kmz')\n",
    "extract_path = os.path.join(project_dir, 'fire-path-data/kml')"
   ]
  },
  {
   "cell_type": "code",
   "execution_count": 6,
   "id": "f5b0be17-a313-40f1-85e3-d15235f5bb00",
   "metadata": {},
   "outputs": [],
   "source": [
    "kml_path = kmztokml(kmz_path, extract_path)"
   ]
  },
  {
   "cell_type": "code",
   "execution_count": 7,
   "id": "dc51d418-a80e-4c4b-bd15-d5e939bf52fd",
   "metadata": {},
   "outputs": [],
   "source": [
    "geodf = kmltogeodf(kml_path, layer='BC Fire Points 2015')"
   ]
  },
  {
   "cell_type": "code",
   "execution_count": 8,
   "id": "04e93ef6-f437-44e1-bee5-dd3be9a6c220",
   "metadata": {},
   "outputs": [],
   "source": [
    "df = geodftodf(geodf)"
   ]
  },
  {
   "cell_type": "code",
   "execution_count": 9,
   "id": "20336360-7057-4a0e-8086-1137deaa0ba4",
   "metadata": {},
   "outputs": [
    {
     "name": "stdout",
     "output_type": "stream",
     "text": [
      "        Name                                        description timestamp  \\\n",
      "0     V10006  <html xmlns:fo=\"http://www.w3.org/1999/XSL/For...       NaT   \n",
      "1     V10010  <html xmlns:fo=\"http://www.w3.org/1999/XSL/For...       NaT   \n",
      "2     V10018  <html xmlns:fo=\"http://www.w3.org/1999/XSL/For...       NaT   \n",
      "3     V10078  <html xmlns:fo=\"http://www.w3.org/1999/XSL/For...       NaT   \n",
      "4     V10081  <html xmlns:fo=\"http://www.w3.org/1999/XSL/For...       NaT   \n",
      "...      ...                                                ...       ...   \n",
      "1854  C50228  <html xmlns:fo=\"http://www.w3.org/1999/XSL/For...       NaT   \n",
      "1855  C50231  <html xmlns:fo=\"http://www.w3.org/1999/XSL/For...       NaT   \n",
      "1856  C50233  <html xmlns:fo=\"http://www.w3.org/1999/XSL/For...       NaT   \n",
      "1857  C50251  <html xmlns:fo=\"http://www.w3.org/1999/XSL/For...       NaT   \n",
      "1858  C50253  <html xmlns:fo=\"http://www.w3.org/1999/XSL/For...       NaT   \n",
      "\n",
      "     begin end   altitudeMode  tessellate  extrude  visibility  drawOrder  \\\n",
      "0      NaT NaT  clampToGround          -1        0          -1        NaN   \n",
      "1      NaT NaT  clampToGround          -1        0          -1        NaN   \n",
      "2      NaT NaT  clampToGround          -1        0          -1        NaN   \n",
      "3      NaT NaT  clampToGround          -1        0          -1        NaN   \n",
      "4      NaT NaT  clampToGround          -1        0          -1        NaN   \n",
      "...    ...  ..            ...         ...      ...         ...        ...   \n",
      "1854   NaT NaT  clampToGround          -1        0          -1        NaN   \n",
      "1855   NaT NaT  clampToGround          -1        0          -1        NaN   \n",
      "1856   NaT NaT  clampToGround          -1        0          -1        NaN   \n",
      "1857   NaT NaT  clampToGround          -1        0          -1        NaN   \n",
      "1858   NaT NaT  clampToGround          -1        0          -1        NaN   \n",
      "\n",
      "      icon snippet                         geometry  \n",
      "0     None          POINT Z (-122.87493 49.34046 0)  \n",
      "1     None          POINT Z (-121.70845 49.09844 0)  \n",
      "2     None          POINT Z (-121.84965 49.36946 0)  \n",
      "3     None          POINT Z (-121.90362 49.32647 0)  \n",
      "4     None           POINT Z (-122.01303 49.0454 0)  \n",
      "...    ...     ...                              ...  \n",
      "1854  None          POINT Z (-123.55358 52.06732 0)  \n",
      "1855  None           POINT Z (-125.3085 52.46252 0)  \n",
      "1856  None          POINT Z (-125.39597 52.47119 0)  \n",
      "1857  None          POINT Z (-124.00543 52.12671 0)  \n",
      "1858  None          POINT Z (-123.17798 52.03494 0)  \n",
      "\n",
      "[1859 rows x 13 columns]\n"
     ]
    }
   ],
   "source": [
    "print(df)"
   ]
  }
 ],
 "metadata": {
  "kernelspec": {
   "display_name": "geo_env",
   "language": "python",
   "name": "geo_env"
  },
  "language_info": {
   "codemirror_mode": {
    "name": "ipython",
    "version": 3
   },
   "file_extension": ".py",
   "mimetype": "text/x-python",
   "name": "python",
   "nbconvert_exporter": "python",
   "pygments_lexer": "ipython3",
   "version": "3.12.4"
  }
 },
 "nbformat": 4,
 "nbformat_minor": 5
}
