{
 "cells": [
  {
   "cell_type": "code",
   "execution_count": 1,
   "id": "1819114f-6af5-4f1e-aaee-a13fa0e01bd6",
   "metadata": {},
   "outputs": [],
   "source": [
    "import pandas as pd\n",
    "import numpy as np\n",
    "import matplotlib.pyplot as plt\n",
    "from scipy import stats\n",
    "import seaborn"
   ]
  },
  {
   "cell_type": "code",
   "execution_count": 2,
   "id": "be3d4fc6-a2c4-4441-afb6-a46e2482e58b",
   "metadata": {},
   "outputs": [],
   "source": [
    "income = pd.read_csv('income/data/income-clean.csv')\n",
    "cleaned_df = pd.read_csv('satisfaction/data/satisfaction-data-clean-updated.csv')\n",
    "sentiment = pd.read_csv('sentiment_score_annual.csv')"
   ]
  },
  {
   "cell_type": "code",
   "execution_count": 3,
   "id": "5ed22157-c20c-40f7-b89b-b87086fa7c71",
   "metadata": {},
   "outputs": [],
   "source": [
    "cleaned_df.loc[cleaned_df[\"Indicators\"] == \"Life satisfaction rating between 0 and 5\", 'Rating'] = 2.5\n",
    "cleaned_df.loc[cleaned_df[\"Indicators\"] == \"Life satisfaction rating of 6 or 7\", 'Rating'] = 6.5\n",
    "cleaned_df.loc[cleaned_df[\"Indicators\"] == \"Life satisfaction rating of 8, 9 or 10\", 'Rating'] = 9"
   ]
  },
  {
   "cell_type": "code",
   "execution_count": 4,
   "id": "8a5f445b-c31a-45e1-bca7-ca06ede675f6",
   "metadata": {},
   "outputs": [],
   "source": [
    "total_df = cleaned_df[(cleaned_df['Gender'] == 'Total, all persons') & (cleaned_df['GEO'] != 'Canada (excluding territories)')]"
   ]
  },
  {
   "cell_type": "code",
   "execution_count": 5,
   "id": "07c077e4-e29d-4204-9007-47719e6c5afa",
   "metadata": {},
   "outputs": [
    {
     "name": "stderr",
     "output_type": "stream",
     "text": [
      "/var/folders/j4/0qxsb2b12h50ql4d2_4ph_vc0000gn/T/ipykernel_24812/1378795955.py:1: SettingWithCopyWarning: \n",
      "A value is trying to be set on a copy of a slice from a DataFrame.\n",
      "Try using .loc[row_indexer,col_indexer] = value instead\n",
      "\n",
      "See the caveats in the documentation: https://pandas.pydata.org/pandas-docs/stable/user_guide/indexing.html#returning-a-view-versus-a-copy\n",
      "  total_df['score'] = total_df['VALUE'] * total_df['Rating']/100\n"
     ]
    }
   ],
   "source": [
    "total_df['score'] = total_df['VALUE'] * total_df['Rating']/100"
   ]
  },
  {
   "cell_type": "code",
   "execution_count": 6,
   "id": "29afd26f-0db6-48ad-9acf-092c3fab6576",
   "metadata": {},
   "outputs": [],
   "source": [
    "total_df = total_df.groupby(['GEO', 'REF_DATE'])['score'].sum().reset_index(name ='Satisfaction Score')"
   ]
  },
  {
   "cell_type": "code",
   "execution_count": 7,
   "id": "0a6b3ba4-72ac-4066-949d-723e3c0d96f2",
   "metadata": {},
   "outputs": [],
   "source": [
    "satisfaction_score = total_df.groupby('GEO')['Satisfaction Score'].mean().reset_index(name ='Satisfaction Score')"
   ]
  },
  {
   "cell_type": "code",
   "execution_count": 8,
   "id": "a4df418b-0d00-4aaf-88d4-6eefdae459e4",
   "metadata": {},
   "outputs": [],
   "source": [
    "income = income[income['Statistics'] == 'Median income (excluding zeros)']"
   ]
  },
  {
   "cell_type": "code",
   "execution_count": 9,
   "id": "4427eddc-3e87-4fe7-bb2f-9b306c1c1034",
   "metadata": {},
   "outputs": [],
   "source": [
    "income_1 = income.drop(columns=['Age group', 'REF_DATE', 'Sex', 'Income source', 'Statistics', 'Unnamed: 0'])"
   ]
  },
  {
   "cell_type": "code",
   "execution_count": 10,
   "id": "bb36ec49-75a8-4e9a-a5f6-a71c878b4d7f",
   "metadata": {},
   "outputs": [],
   "source": [
    "combined = pd.merge(income_1, satisfaction_score, on='GEO')"
   ]
  },
  {
   "cell_type": "code",
   "execution_count": 11,
   "id": "798b0e0d-df41-47c6-8d08-339894ee2139",
   "metadata": {},
   "outputs": [],
   "source": [
    "line = stats.linregress(combined['Satisfaction Score'], combined['VALUE'])"
   ]
  },
  {
   "cell_type": "code",
   "execution_count": 12,
   "id": "f936fde8-3697-459f-8c22-a058c174bb67",
   "metadata": {},
   "outputs": [],
   "source": [
    "combined['prediction'] = line.intercept + line.slope*combined['Satisfaction Score']"
   ]
  },
  {
   "cell_type": "code",
   "execution_count": 13,
   "id": "50d26d96-4b7d-431a-ba4e-1f462d8f181e",
   "metadata": {},
   "outputs": [
    {
     "data": {
      "text/html": [
       "<div>\n",
       "<style scoped>\n",
       "    .dataframe tbody tr th:only-of-type {\n",
       "        vertical-align: middle;\n",
       "    }\n",
       "\n",
       "    .dataframe tbody tr th {\n",
       "        vertical-align: top;\n",
       "    }\n",
       "\n",
       "    .dataframe thead th {\n",
       "        text-align: right;\n",
       "    }\n",
       "</style>\n",
       "<table border=\"1\" class=\"dataframe\">\n",
       "  <thead>\n",
       "    <tr style=\"text-align: right;\">\n",
       "      <th></th>\n",
       "      <th>GEO</th>\n",
       "      <th>VALUE</th>\n",
       "      <th>Satisfaction Score</th>\n",
       "      <th>prediction</th>\n",
       "    </tr>\n",
       "  </thead>\n",
       "  <tbody>\n",
       "    <tr>\n",
       "      <th>0</th>\n",
       "      <td>Newfoundland and Labrador</td>\n",
       "      <td>39100</td>\n",
       "      <td>7.292500</td>\n",
       "      <td>41456.084312</td>\n",
       "    </tr>\n",
       "    <tr>\n",
       "      <th>1</th>\n",
       "      <td>Prince Edward Island</td>\n",
       "      <td>40900</td>\n",
       "      <td>7.322875</td>\n",
       "      <td>41390.196350</td>\n",
       "    </tr>\n",
       "    <tr>\n",
       "      <th>2</th>\n",
       "      <td>Nova Scotia</td>\n",
       "      <td>38700</td>\n",
       "      <td>6.931500</td>\n",
       "      <td>42239.147831</td>\n",
       "    </tr>\n",
       "    <tr>\n",
       "      <th>3</th>\n",
       "      <td>New Brunswick</td>\n",
       "      <td>40100</td>\n",
       "      <td>7.048000</td>\n",
       "      <td>41986.441737</td>\n",
       "    </tr>\n",
       "    <tr>\n",
       "      <th>4</th>\n",
       "      <td>Quebec</td>\n",
       "      <td>43900</td>\n",
       "      <td>7.429875</td>\n",
       "      <td>41158.097191</td>\n",
       "    </tr>\n",
       "    <tr>\n",
       "      <th>5</th>\n",
       "      <td>Ontario</td>\n",
       "      <td>42700</td>\n",
       "      <td>6.797250</td>\n",
       "      <td>42530.356356</td>\n",
       "    </tr>\n",
       "    <tr>\n",
       "      <th>6</th>\n",
       "      <td>Manitoba</td>\n",
       "      <td>41100</td>\n",
       "      <td>7.059000</td>\n",
       "      <td>41962.581076</td>\n",
       "    </tr>\n",
       "    <tr>\n",
       "      <th>7</th>\n",
       "      <td>Saskatchewan</td>\n",
       "      <td>43900</td>\n",
       "      <td>7.077500</td>\n",
       "      <td>41922.451782</td>\n",
       "    </tr>\n",
       "    <tr>\n",
       "      <th>8</th>\n",
       "      <td>Alberta</td>\n",
       "      <td>45200</td>\n",
       "      <td>6.912500</td>\n",
       "      <td>42280.361701</td>\n",
       "    </tr>\n",
       "    <tr>\n",
       "      <th>9</th>\n",
       "      <td>British Columbia</td>\n",
       "      <td>43900</td>\n",
       "      <td>6.777000</td>\n",
       "      <td>42574.281664</td>\n",
       "    </tr>\n",
       "  </tbody>\n",
       "</table>\n",
       "</div>"
      ],
      "text/plain": [
       "                         GEO  VALUE  Satisfaction Score    prediction\n",
       "0  Newfoundland and Labrador  39100            7.292500  41456.084312\n",
       "1       Prince Edward Island  40900            7.322875  41390.196350\n",
       "2                Nova Scotia  38700            6.931500  42239.147831\n",
       "3              New Brunswick  40100            7.048000  41986.441737\n",
       "4                     Quebec  43900            7.429875  41158.097191\n",
       "5                    Ontario  42700            6.797250  42530.356356\n",
       "6                   Manitoba  41100            7.059000  41962.581076\n",
       "7               Saskatchewan  43900            7.077500  41922.451782\n",
       "8                    Alberta  45200            6.912500  42280.361701\n",
       "9           British Columbia  43900            6.777000  42574.281664"
      ]
     },
     "execution_count": 13,
     "metadata": {},
     "output_type": "execute_result"
    }
   ],
   "source": [
    "combined"
   ]
  },
  {
   "cell_type": "code",
   "execution_count": 14,
   "id": "ed432ebc-7857-4d1d-b8b6-7470f1f85e88",
   "metadata": {},
   "outputs": [
    {
     "data": {
      "text/plain": [
       "LinregressResult(slope=-2169.1510223014316, intercept=57274.61814235515, rvalue=-0.21289407911529148, pvalue=0.5548339870856557, stderr=3519.7291159045753, intercept_stderr=24877.329195654427)"
      ]
     },
     "execution_count": 14,
     "metadata": {},
     "output_type": "execute_result"
    }
   ],
   "source": [
    "line"
   ]
  },
  {
   "cell_type": "code",
   "execution_count": 15,
   "id": "fefcef66-648f-47c0-a399-778b68e40497",
   "metadata": {},
   "outputs": [
    {
     "data": {
      "text/plain": [
       "<matplotlib.legend.Legend at 0x14d689390>"
      ]
     },
     "execution_count": 15,
     "metadata": {},
     "output_type": "execute_result"
    },
    {
     "data": {
      "text/plain": [
       "<Figure size 640x480 with 0 Axes>"
      ]
     },
     "metadata": {},
     "output_type": "display_data"
    },
    {
     "data": {
      "image/png": "[encoded data removed]",
      "text/plain": [
       "<Figure size 640x480 with 1 Axes>"
      ]
     },
     "metadata": {},
     "output_type": "display_data"
    }
   ],
   "source": [
    "seaborn.set()\n",
    "plt.figure()\n",
    "fig, ax = plt.subplots()\n",
    "ax.scatter(combined['Satisfaction Score'], combined['VALUE'])\n",
    "ax.set_title('Average Satisfaction Score vs Median Income per Province, 2022')\n",
    "ax.set_xlabel('Satisfaction Score')\n",
    "ax.set_ylabel('Median Income')\n",
    "ax.plot(combined['Satisfaction Score'], combined['prediction'], 'r-', linewidth=2)\n",
    "ax.legend(['Provincial Scores', 'Linear Regression Line'], loc='lower right')"
   ]
  },
  {
   "cell_type": "code",
   "execution_count": 16,
   "id": "2000580a-9232-4baa-8488-f875e1a3cd65",
   "metadata": {},
   "outputs": [
    {
     "data": {
      "text/html": [
       "<div>\n",
       "<style scoped>\n",
       "    .dataframe tbody tr th:only-of-type {\n",
       "        vertical-align: middle;\n",
       "    }\n",
       "\n",
       "    .dataframe tbody tr th {\n",
       "        vertical-align: top;\n",
       "    }\n",
       "\n",
       "    .dataframe thead th {\n",
       "        text-align: right;\n",
       "    }\n",
       "</style>\n",
       "<table border=\"1\" class=\"dataframe\">\n",
       "  <thead>\n",
       "    <tr style=\"text-align: right;\">\n",
       "      <th></th>\n",
       "      <th>subreddit</th>\n",
       "      <th>year</th>\n",
       "      <th>score</th>\n",
       "    </tr>\n",
       "  </thead>\n",
       "  <tbody>\n",
       "    <tr>\n",
       "      <th>0</th>\n",
       "      <td>Manitoba</td>\n",
       "      <td>2016</td>\n",
       "      <td>0.455419</td>\n",
       "    </tr>\n",
       "    <tr>\n",
       "      <th>1</th>\n",
       "      <td>Manitoba</td>\n",
       "      <td>2017</td>\n",
       "      <td>0.411702</td>\n",
       "    </tr>\n",
       "    <tr>\n",
       "      <th>2</th>\n",
       "      <td>Manitoba</td>\n",
       "      <td>2018</td>\n",
       "      <td>0.430210</td>\n",
       "    </tr>\n",
       "    <tr>\n",
       "      <th>3</th>\n",
       "      <td>Manitoba</td>\n",
       "      <td>2019</td>\n",
       "      <td>0.491842</td>\n",
       "    </tr>\n",
       "    <tr>\n",
       "      <th>4</th>\n",
       "      <td>Manitoba</td>\n",
       "      <td>2020</td>\n",
       "      <td>0.389482</td>\n",
       "    </tr>\n",
       "    <tr>\n",
       "      <th>...</th>\n",
       "      <td>...</td>\n",
       "      <td>...</td>\n",
       "      <td>...</td>\n",
       "    </tr>\n",
       "    <tr>\n",
       "      <th>91</th>\n",
       "      <td>saskatchewan</td>\n",
       "      <td>2019</td>\n",
       "      <td>0.314265</td>\n",
       "    </tr>\n",
       "    <tr>\n",
       "      <th>92</th>\n",
       "      <td>saskatchewan</td>\n",
       "      <td>2020</td>\n",
       "      <td>0.308508</td>\n",
       "    </tr>\n",
       "    <tr>\n",
       "      <th>93</th>\n",
       "      <td>saskatchewan</td>\n",
       "      <td>2021</td>\n",
       "      <td>0.289836</td>\n",
       "    </tr>\n",
       "    <tr>\n",
       "      <th>94</th>\n",
       "      <td>saskatchewan</td>\n",
       "      <td>2022</td>\n",
       "      <td>0.289691</td>\n",
       "    </tr>\n",
       "    <tr>\n",
       "      <th>95</th>\n",
       "      <td>saskatchewan</td>\n",
       "      <td>2023</td>\n",
       "      <td>0.258810</td>\n",
       "    </tr>\n",
       "  </tbody>\n",
       "</table>\n",
       "<p>96 rows × 3 columns</p>\n",
       "</div>"
      ],
      "text/plain": [
       "       subreddit  year     score\n",
       "0       Manitoba  2016  0.455419\n",
       "1       Manitoba  2017  0.411702\n",
       "2       Manitoba  2018  0.430210\n",
       "3       Manitoba  2019  0.491842\n",
       "4       Manitoba  2020  0.389482\n",
       "..           ...   ...       ...\n",
       "91  saskatchewan  2019  0.314265\n",
       "92  saskatchewan  2020  0.308508\n",
       "93  saskatchewan  2021  0.289836\n",
       "94  saskatchewan  2022  0.289691\n",
       "95  saskatchewan  2023  0.258810\n",
       "\n",
       "[96 rows x 3 columns]"
      ]
     },
     "execution_count": 16,
     "metadata": {},
     "output_type": "execute_result"
    }
   ],
   "source": [
    "sentiment"
   ]
  },
  {
   "cell_type": "code",
   "execution_count": 17,
   "id": "a81459fc-ef54-4a4a-bf44-6fe71a4e4b74",
   "metadata": {},
   "outputs": [],
   "source": [
    "sentiment_clean = sentiment[sentiment['year'] == 2022]"
   ]
  },
  {
   "cell_type": "code",
   "execution_count": 18,
   "id": "e3e42b9a-591b-4045-a1a3-2526cc269d91",
   "metadata": {},
   "outputs": [],
   "source": [
    "sentiment_clean = sentiment_clean.rename(columns={\"subreddit\":'GEO'})"
   ]
  },
  {
   "cell_type": "code",
   "execution_count": 19,
   "id": "0a03bba7-a5e5-4483-9376-3cfca0287e65",
   "metadata": {},
   "outputs": [],
   "source": [
    "sentiment_clean.loc[sentiment_clean['GEO'] == \"NovaScotia\", \"GEO\"] = 'Nova Scotia'\n",
    "sentiment_clean.loc[sentiment_clean['GEO'] == \"PEI\", \"GEO\"] = 'Prince Edward Island'\n",
    "sentiment_clean.loc[sentiment_clean['GEO'] == \"alberta\", \"GEO\"] = 'Alberta'\n",
    "sentiment_clean.loc[sentiment_clean['GEO'] == \"britishcolumbia\", \"GEO\"] = 'British Columbia'\n",
    "sentiment_clean.loc[sentiment_clean['GEO'] == \"newbrunswickcanada\", \"GEO\"] = 'New Brunswick'\n",
    "sentiment_clean.loc[sentiment_clean['GEO'] == \"newfoundland\", \"GEO\"] = 'Newfoundland and Labrador'\n",
    "sentiment_clean.loc[sentiment_clean['GEO'] == \"ontario\", \"GEO\"] = 'Ontario'\n",
    "sentiment_clean.loc[sentiment_clean['GEO'] == \"saskatchewan\", \"GEO\"] = 'Saskatchewan'"
   ]
  },
  {
   "cell_type": "code",
   "execution_count": 20,
   "id": "85f7b3f2-e382-49de-8ae4-e7abe726d765",
   "metadata": {},
   "outputs": [],
   "source": [
    "sentiment_clean = sentiment_clean[sentiment_clean['GEO'] != 'NWT']\n",
    "sentiment_clean = sentiment_clean[sentiment_clean['GEO'] != 'Yukon']\n",
    "sentiment_clean = sentiment_clean[sentiment_clean['GEO'] != 'nunavut']"
   ]
  },
  {
   "cell_type": "code",
   "execution_count": 21,
   "id": "53f189a4-eaad-4f48-b5ae-65681279cbae",
   "metadata": {},
   "outputs": [],
   "source": [
    "merged = pd.merge(sentiment_clean, income_1, on='GEO')"
   ]
  },
  {
   "cell_type": "code",
   "execution_count": 22,
   "id": "03b04fa9-dc0e-4029-8983-1643bfbde43f",
   "metadata": {},
   "outputs": [],
   "source": [
    "merged = merged.rename(columns={\"score\": \"Sentiment Score\"})"
   ]
  },
  {
   "cell_type": "code",
   "execution_count": 23,
   "id": "ea3cbec2-bf0e-4f69-bd69-996580677287",
   "metadata": {},
   "outputs": [
    {
     "data": {
      "text/html": [
       "<div>\n",
       "<style scoped>\n",
       "    .dataframe tbody tr th:only-of-type {\n",
       "        vertical-align: middle;\n",
       "    }\n",
       "\n",
       "    .dataframe tbody tr th {\n",
       "        vertical-align: top;\n",
       "    }\n",
       "\n",
       "    .dataframe thead th {\n",
       "        text-align: right;\n",
       "    }\n",
       "</style>\n",
       "<table border=\"1\" class=\"dataframe\">\n",
       "  <thead>\n",
       "    <tr style=\"text-align: right;\">\n",
       "      <th></th>\n",
       "      <th>GEO</th>\n",
       "      <th>year</th>\n",
       "      <th>Sentiment Score</th>\n",
       "      <th>VALUE</th>\n",
       "    </tr>\n",
       "  </thead>\n",
       "  <tbody>\n",
       "    <tr>\n",
       "      <th>0</th>\n",
       "      <td>Manitoba</td>\n",
       "      <td>2022</td>\n",
       "      <td>0.338818</td>\n",
       "      <td>41100</td>\n",
       "    </tr>\n",
       "    <tr>\n",
       "      <th>1</th>\n",
       "      <td>Nova Scotia</td>\n",
       "      <td>2022</td>\n",
       "      <td>0.385423</td>\n",
       "      <td>38700</td>\n",
       "    </tr>\n",
       "    <tr>\n",
       "      <th>2</th>\n",
       "      <td>Prince Edward Island</td>\n",
       "      <td>2022</td>\n",
       "      <td>0.364553</td>\n",
       "      <td>40900</td>\n",
       "    </tr>\n",
       "    <tr>\n",
       "      <th>3</th>\n",
       "      <td>Alberta</td>\n",
       "      <td>2022</td>\n",
       "      <td>0.306989</td>\n",
       "      <td>45200</td>\n",
       "    </tr>\n",
       "    <tr>\n",
       "      <th>4</th>\n",
       "      <td>British Columbia</td>\n",
       "      <td>2022</td>\n",
       "      <td>0.318652</td>\n",
       "      <td>43900</td>\n",
       "    </tr>\n",
       "    <tr>\n",
       "      <th>5</th>\n",
       "      <td>New Brunswick</td>\n",
       "      <td>2022</td>\n",
       "      <td>0.328199</td>\n",
       "      <td>40100</td>\n",
       "    </tr>\n",
       "    <tr>\n",
       "      <th>6</th>\n",
       "      <td>Newfoundland and Labrador</td>\n",
       "      <td>2022</td>\n",
       "      <td>0.345370</td>\n",
       "      <td>39100</td>\n",
       "    </tr>\n",
       "    <tr>\n",
       "      <th>7</th>\n",
       "      <td>Ontario</td>\n",
       "      <td>2022</td>\n",
       "      <td>0.248206</td>\n",
       "      <td>42700</td>\n",
       "    </tr>\n",
       "    <tr>\n",
       "      <th>8</th>\n",
       "      <td>Saskatchewan</td>\n",
       "      <td>2022</td>\n",
       "      <td>0.289691</td>\n",
       "      <td>43900</td>\n",
       "    </tr>\n",
       "  </tbody>\n",
       "</table>\n",
       "</div>"
      ],
      "text/plain": [
       "                         GEO  year  Sentiment Score  VALUE\n",
       "0                   Manitoba  2022         0.338818  41100\n",
       "1                Nova Scotia  2022         0.385423  38700\n",
       "2       Prince Edward Island  2022         0.364553  40900\n",
       "3                    Alberta  2022         0.306989  45200\n",
       "4           British Columbia  2022         0.318652  43900\n",
       "5              New Brunswick  2022         0.328199  40100\n",
       "6  Newfoundland and Labrador  2022         0.345370  39100\n",
       "7                    Ontario  2022         0.248206  42700\n",
       "8               Saskatchewan  2022         0.289691  43900"
      ]
     },
     "execution_count": 23,
     "metadata": {},
     "output_type": "execute_result"
    }
   ],
   "source": [
    "merged"
   ]
  },
  {
   "cell_type": "code",
   "execution_count": 24,
   "id": "27de610b-b640-4ca5-8eb0-336f4a0098de",
   "metadata": {},
   "outputs": [],
   "source": [
    "line = stats.linregress(merged['Sentiment Score'], merged['VALUE'])"
   ]
  },
  {
   "cell_type": "code",
   "execution_count": 25,
   "id": "30e4b56e-d466-4a81-8973-e14b4a250bf4",
   "metadata": {},
   "outputs": [],
   "source": [
    "merged['prediction'] = line.intercept + line.slope*merged['Sentiment Score']"
   ]
  },
  {
   "cell_type": "code",
   "execution_count": 26,
   "id": "457c1978-fb16-484b-9e6b-83ec6aea7235",
   "metadata": {},
   "outputs": [
    {
     "data": {
      "text/html": [
       "<div>\n",
       "<style scoped>\n",
       "    .dataframe tbody tr th:only-of-type {\n",
       "        vertical-align: middle;\n",
       "    }\n",
       "\n",
       "    .dataframe tbody tr th {\n",
       "        vertical-align: top;\n",
       "    }\n",
       "\n",
       "    .dataframe thead th {\n",
       "        text-align: right;\n",
       "    }\n",
       "</style>\n",
       "<table border=\"1\" class=\"dataframe\">\n",
       "  <thead>\n",
       "    <tr style=\"text-align: right;\">\n",
       "      <th></th>\n",
       "      <th>GEO</th>\n",
       "      <th>year</th>\n",
       "      <th>Sentiment Score</th>\n",
       "      <th>VALUE</th>\n",
       "      <th>prediction</th>\n",
       "    </tr>\n",
       "  </thead>\n",
       "  <tbody>\n",
       "    <tr>\n",
       "      <th>0</th>\n",
       "      <td>Manitoba</td>\n",
       "      <td>2022</td>\n",
       "      <td>0.338818</td>\n",
       "      <td>41100</td>\n",
       "      <td>41208.081111</td>\n",
       "    </tr>\n",
       "    <tr>\n",
       "      <th>1</th>\n",
       "      <td>Nova Scotia</td>\n",
       "      <td>2022</td>\n",
       "      <td>0.385423</td>\n",
       "      <td>38700</td>\n",
       "      <td>39423.589135</td>\n",
       "    </tr>\n",
       "    <tr>\n",
       "      <th>2</th>\n",
       "      <td>Prince Edward Island</td>\n",
       "      <td>2022</td>\n",
       "      <td>0.364553</td>\n",
       "      <td>40900</td>\n",
       "      <td>40222.702715</td>\n",
       "    </tr>\n",
       "    <tr>\n",
       "      <th>3</th>\n",
       "      <td>Alberta</td>\n",
       "      <td>2022</td>\n",
       "      <td>0.306989</td>\n",
       "      <td>45200</td>\n",
       "      <td>42426.793496</td>\n",
       "    </tr>\n",
       "    <tr>\n",
       "      <th>4</th>\n",
       "      <td>British Columbia</td>\n",
       "      <td>2022</td>\n",
       "      <td>0.318652</td>\n",
       "      <td>43900</td>\n",
       "      <td>41980.221648</td>\n",
       "    </tr>\n",
       "    <tr>\n",
       "      <th>5</th>\n",
       "      <td>New Brunswick</td>\n",
       "      <td>2022</td>\n",
       "      <td>0.328199</td>\n",
       "      <td>40100</td>\n",
       "      <td>41614.662354</td>\n",
       "    </tr>\n",
       "    <tr>\n",
       "      <th>6</th>\n",
       "      <td>Newfoundland and Labrador</td>\n",
       "      <td>2022</td>\n",
       "      <td>0.345370</td>\n",
       "      <td>39100</td>\n",
       "      <td>40957.212658</td>\n",
       "    </tr>\n",
       "    <tr>\n",
       "      <th>7</th>\n",
       "      <td>Ontario</td>\n",
       "      <td>2022</td>\n",
       "      <td>0.248206</td>\n",
       "      <td>42700</td>\n",
       "      <td>44677.592152</td>\n",
       "    </tr>\n",
       "    <tr>\n",
       "      <th>8</th>\n",
       "      <td>Saskatchewan</td>\n",
       "      <td>2022</td>\n",
       "      <td>0.289691</td>\n",
       "      <td>43900</td>\n",
       "      <td>43089.144731</td>\n",
       "    </tr>\n",
       "  </tbody>\n",
       "</table>\n",
       "</div>"
      ],
      "text/plain": [
       "                         GEO  year  Sentiment Score  VALUE    prediction\n",
       "0                   Manitoba  2022         0.338818  41100  41208.081111\n",
       "1                Nova Scotia  2022         0.385423  38700  39423.589135\n",
       "2       Prince Edward Island  2022         0.364553  40900  40222.702715\n",
       "3                    Alberta  2022         0.306989  45200  42426.793496\n",
       "4           British Columbia  2022         0.318652  43900  41980.221648\n",
       "5              New Brunswick  2022         0.328199  40100  41614.662354\n",
       "6  Newfoundland and Labrador  2022         0.345370  39100  40957.212658\n",
       "7                    Ontario  2022         0.248206  42700  44677.592152\n",
       "8               Saskatchewan  2022         0.289691  43900  43089.144731"
      ]
     },
     "execution_count": 26,
     "metadata": {},
     "output_type": "execute_result"
    }
   ],
   "source": [
    "merged"
   ]
  },
  {
   "cell_type": "code",
   "execution_count": 28,
   "id": "7e8ba886-7c9e-4791-8c0a-a3011cc5ea08",
   "metadata": {},
   "outputs": [
    {
     "data": {
      "text/plain": [
       "LinregressResult(slope=-38289.745768160436, intercept=54181.328309942146, rvalue=-0.6804560723099891, pvalue=0.04366953009297445, stderr=15585.19481913447, intercept_stderr=5102.151490064792)"
      ]
     },
     "execution_count": 28,
     "metadata": {},
     "output_type": "execute_result"
    }
   ],
   "source": [
    "line"
   ]
  },
  {
   "cell_type": "code",
   "execution_count": 29,
   "id": "452e333c-6be2-4b98-95db-92b80fa26da9",
   "metadata": {},
   "outputs": [
    {
     "data": {
      "text/plain": [
       "<matplotlib.legend.Legend at 0x14d8a1750>"
      ]
     },
     "execution_count": 29,
     "metadata": {},
     "output_type": "execute_result"
    },
    {
     "data": {
      "text/plain": [
       "<Figure size 640x480 with 0 Axes>"
      ]
     },
     "metadata": {},
     "output_type": "display_data"
    },
    {
     "data": {
      "image/png": "[encoded data removed]",
      "text/plain": [
       "<Figure size 640x480 with 1 Axes>"
      ]
     },
     "metadata": {},
     "output_type": "display_data"
    }
   ],
   "source": [
    "seaborn.set()\n",
    "plt.figure()\n",
    "fig, ax = plt.subplots()\n",
    "ax.scatter(merged['Sentiment Score'], merged['VALUE'])\n",
    "ax.set_title('Average Sentiment Score vs Median Income per Province, 2022')\n",
    "ax.set_xlabel('Sentiment Score')\n",
    "ax.set_ylabel('Median Income')\n",
    "ax.plot(merged['Sentiment Score'], merged['prediction'], 'r-', linewidth=2)\n",
    "ax.legend(['Provincial Scores', 'Linear Regression Line'], loc='lower right')"
   ]
  },
  {
   "cell_type": "code",
   "execution_count": null,
   "id": "4aaa8733-d12f-4e4e-a92a-12e9b93dc6e7",
   "metadata": {},
   "outputs": [],
   "source": []
  }
 ],
 "metadata": {
  "kernelspec": {
   "display_name": "Python 3 (ipykernel)",
   "language": "python",
   "name": "python3"
  },
  "language_info": {
   "codemirror_mode": {
    "name": "ipython",
    "version": 3
   },
   "file_extension": ".py",
   "mimetype": "text/x-python",
   "name": "python",
   "nbconvert_exporter": "python",
   "pygments_lexer": "ipython3",
   "version": "3.11.7"
  }
 },
 "nbformat": 4,
 "nbformat_minor": 5
}
