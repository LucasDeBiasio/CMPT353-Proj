{
 "cells": [
  {
   "cell_type": "code",
   "execution_count": 1,
   "id": "bbaa154d-7a0d-4d16-a35d-87d0ecef23db",
   "metadata": {},
   "outputs": [],
   "source": [
    "import pandas as pd"
   ]
  },
  {
   "cell_type": "code",
   "execution_count": 2,
   "id": "eae9cad6-f973-4a10-a19d-94bd52732c0c",
   "metadata": {},
   "outputs": [],
   "source": [
    "df = pd.read_csv('../data/income-data//income-raw.csv')"
   ]
  },
  {
   "cell_type": "code",
   "execution_count": 3,
   "id": "06e481f3-8340-4a04-a6fc-b57a37a04e8b",
   "metadata": {},
   "outputs": [],
   "source": [
    "nocol = df.drop(columns=['DGUID', 'UOM', 'UOM_ID', 'SCALAR_FACTOR', 'SCALAR_ID', 'VECTOR', 'COORDINATE', 'STATUS', 'SYMBOL', 'TERMINATED', 'DECIMALS'])\n",
    "clean_df = nocol.dropna(subset='VALUE')"
   ]
  },
  {
   "cell_type": "code",
   "execution_count": 4,
   "id": "b891e685-051c-4cc4-bb9b-c6f718b72356",
   "metadata": {},
   "outputs": [],
   "source": [
    "clean_df = clean_df[clean_df['Statistics'].isin(['Average income (excluding zeros)', 'Median income (excluding zeros)'])]"
   ]
  },
  {
   "cell_type": "code",
   "execution_count": 5,
   "id": "7f2ff90c-1e77-4a8f-8ffb-534651830998",
   "metadata": {},
   "outputs": [],
   "source": [
    "provs = ['Newfoundland and Labrador', 'Prince Edward Island', 'Nova Scotia', 'New Brunswick', 'Quebec', 'Ontario', 'Manitoba', 'Saskatchewan', 'Alberta', 'British Columbia']\n",
    "clean_df = clean_df[clean_df['GEO'].isin(provs)]"
   ]
  },
  {
   "cell_type": "code",
   "execution_count": 6,
   "id": "55427df3-2c8c-4c1c-9899-cee494e9852f",
   "metadata": {},
   "outputs": [
    {
     "name": "stdout",
     "output_type": "stream",
     "text": [
      "    REF_DATE                        GEO          Age group         Sex  \\\n",
      "13      2022  Newfoundland and Labrador  15 years and over  Both sexes   \n",
      "14      2022  Newfoundland and Labrador  15 years and over  Both sexes   \n",
      "18      2022       Prince Edward Island  15 years and over  Both sexes   \n",
      "19      2022       Prince Edward Island  15 years and over  Both sexes   \n",
      "23      2022                Nova Scotia  15 years and over  Both sexes   \n",
      "24      2022                Nova Scotia  15 years and over  Both sexes   \n",
      "28      2022              New Brunswick  15 years and over  Both sexes   \n",
      "29      2022              New Brunswick  15 years and over  Both sexes   \n",
      "33      2022                     Quebec  15 years and over  Both sexes   \n",
      "34      2022                     Quebec  15 years and over  Both sexes   \n",
      "38      2022                    Ontario  15 years and over  Both sexes   \n",
      "39      2022                    Ontario  15 years and over  Both sexes   \n",
      "48      2022                   Manitoba  15 years and over  Both sexes   \n",
      "49      2022                   Manitoba  15 years and over  Both sexes   \n",
      "53      2022               Saskatchewan  15 years and over  Both sexes   \n",
      "54      2022               Saskatchewan  15 years and over  Both sexes   \n",
      "58      2022                    Alberta  15 years and over  Both sexes   \n",
      "59      2022                    Alberta  15 years and over  Both sexes   \n",
      "63      2022           British Columbia  15 years and over  Both sexes   \n",
      "64      2022           British Columbia  15 years and over  Both sexes   \n",
      "\n",
      "   Income source                        Statistics  VALUE  \n",
      "13  Total income  Average income (excluding zeros)  51100  \n",
      "14  Total income   Median income (excluding zeros)  39100  \n",
      "18  Total income  Average income (excluding zeros)  48400  \n",
      "19  Total income   Median income (excluding zeros)  40900  \n",
      "23  Total income  Average income (excluding zeros)  48800  \n",
      "24  Total income   Median income (excluding zeros)  38700  \n",
      "28  Total income  Average income (excluding zeros)  48200  \n",
      "29  Total income   Median income (excluding zeros)  40100  \n",
      "33  Total income  Average income (excluding zeros)  54700  \n",
      "34  Total income   Median income (excluding zeros)  43900  \n",
      "38  Total income  Average income (excluding zeros)  58700  \n",
      "39  Total income   Median income (excluding zeros)  42700  \n",
      "48  Total income  Average income (excluding zeros)  50700  \n",
      "49  Total income   Median income (excluding zeros)  41100  \n",
      "53  Total income  Average income (excluding zeros)  55700  \n",
      "54  Total income   Median income (excluding zeros)  43900  \n",
      "58  Total income  Average income (excluding zeros)  61500  \n",
      "59  Total income   Median income (excluding zeros)  45200  \n",
      "63  Total income  Average income (excluding zeros)  58300  \n",
      "64  Total income   Median income (excluding zeros)  43900  \n"
     ]
    }
   ],
   "source": [
    "print(clean_df)\n",
    "clean_df.to_csv('../data/income-data/income-clean.csv')"
   ]
  }
 ],
 "metadata": {
  "kernelspec": {
   "display_name": "Python 3 (ipykernel)",
   "language": "python",
   "name": "python3"
  },
  "language_info": {
   "codemirror_mode": {
    "name": "ipython",
    "version": 3
   },
   "file_extension": ".py",
   "mimetype": "text/x-python",
   "name": "python",
   "nbconvert_exporter": "python",
   "pygments_lexer": "ipython3",
   "version": "3.11.7"
  }
 },
 "nbformat": 4,
 "nbformat_minor": 5
}
