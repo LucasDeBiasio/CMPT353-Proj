{
 "cells": [
  {
   "cell_type": "code",
   "execution_count": 1,
   "id": "1819114f-6af5-4f1e-aaee-a13fa0e01bd6",
   "metadata": {},
   "outputs": [],
   "source": [
    "import pandas as pd\n",
    "import numpy as np\n",
    "import matplotlib.pyplot as plt\n",
    "from scipy import stats\n",
    "import seaborn"
   ]
  },
  {
   "cell_type": "code",
   "execution_count": 2,
   "id": "be3d4fc6-a2c4-4441-afb6-a46e2482e58b",
   "metadata": {},
   "outputs": [],
   "source": [
    "income = pd.read_csv('../data/income-data/income-clean.csv')\n",
    "sentiment = pd.read_csv('../data/sentiment_score.csv')"
   ]
  },
  {
   "cell_type": "code",
   "execution_count": 3,
   "id": "a4df418b-0d00-4aaf-88d4-6eefdae459e4",
   "metadata": {},
   "outputs": [],
   "source": [
    "income = income[income['Statistics'] == 'Median income (excluding zeros)']"
   ]
  },
  {
   "cell_type": "code",
   "execution_count": 4,
   "id": "4427eddc-3e87-4fe7-bb2f-9b306c1c1034",
   "metadata": {},
   "outputs": [],
   "source": [
    "income_1 = income.drop(columns=['Age group', 'REF_DATE', 'Sex', 'Income source', 'Statistics', 'Unnamed: 0'])"
   ]
  },
  {
   "cell_type": "code",
   "execution_count": 5,
   "id": "2000580a-9232-4baa-8488-f875e1a3cd65",
   "metadata": {},
   "outputs": [
    {
     "data": {
      "text/html": [
       "<div>\n",
       "<style scoped>\n",
       "    .dataframe tbody tr th:only-of-type {\n",
       "        vertical-align: middle;\n",
       "    }\n",
       "\n",
       "    .dataframe tbody tr th {\n",
       "        vertical-align: top;\n",
       "    }\n",
       "\n",
       "    .dataframe thead th {\n",
       "        text-align: right;\n",
       "    }\n",
       "</style>\n",
       "<table border=\"1\" class=\"dataframe\">\n",
       "  <thead>\n",
       "    <tr style=\"text-align: right;\">\n",
       "      <th></th>\n",
       "      <th>subreddit</th>\n",
       "      <th>year</th>\n",
       "      <th>score</th>\n",
       "    </tr>\n",
       "  </thead>\n",
       "  <tbody>\n",
       "    <tr>\n",
       "      <th>0</th>\n",
       "      <td>Manitoba</td>\n",
       "      <td>2016</td>\n",
       "      <td>0.454037</td>\n",
       "    </tr>\n",
       "    <tr>\n",
       "      <th>1</th>\n",
       "      <td>Manitoba</td>\n",
       "      <td>2017</td>\n",
       "      <td>0.412312</td>\n",
       "    </tr>\n",
       "    <tr>\n",
       "      <th>2</th>\n",
       "      <td>Manitoba</td>\n",
       "      <td>2018</td>\n",
       "      <td>0.430043</td>\n",
       "    </tr>\n",
       "    <tr>\n",
       "      <th>3</th>\n",
       "      <td>Manitoba</td>\n",
       "      <td>2019</td>\n",
       "      <td>0.494603</td>\n",
       "    </tr>\n",
       "    <tr>\n",
       "      <th>4</th>\n",
       "      <td>Manitoba</td>\n",
       "      <td>2020</td>\n",
       "      <td>0.389236</td>\n",
       "    </tr>\n",
       "    <tr>\n",
       "      <th>...</th>\n",
       "      <td>...</td>\n",
       "      <td>...</td>\n",
       "      <td>...</td>\n",
       "    </tr>\n",
       "    <tr>\n",
       "      <th>91</th>\n",
       "      <td>saskatchewan</td>\n",
       "      <td>2019</td>\n",
       "      <td>0.319478</td>\n",
       "    </tr>\n",
       "    <tr>\n",
       "      <th>92</th>\n",
       "      <td>saskatchewan</td>\n",
       "      <td>2020</td>\n",
       "      <td>0.315896</td>\n",
       "    </tr>\n",
       "    <tr>\n",
       "      <th>93</th>\n",
       "      <td>saskatchewan</td>\n",
       "      <td>2021</td>\n",
       "      <td>0.298976</td>\n",
       "    </tr>\n",
       "    <tr>\n",
       "      <th>94</th>\n",
       "      <td>saskatchewan</td>\n",
       "      <td>2022</td>\n",
       "      <td>0.298894</td>\n",
       "    </tr>\n",
       "    <tr>\n",
       "      <th>95</th>\n",
       "      <td>saskatchewan</td>\n",
       "      <td>2023</td>\n",
       "      <td>0.264676</td>\n",
       "    </tr>\n",
       "  </tbody>\n",
       "</table>\n",
       "<p>96 rows × 3 columns</p>\n",
       "</div>"
      ],
      "text/plain": [
       "       subreddit  year     score\n",
       "0       Manitoba  2016  0.454037\n",
       "1       Manitoba  2017  0.412312\n",
       "2       Manitoba  2018  0.430043\n",
       "3       Manitoba  2019  0.494603\n",
       "4       Manitoba  2020  0.389236\n",
       "..           ...   ...       ...\n",
       "91  saskatchewan  2019  0.319478\n",
       "92  saskatchewan  2020  0.315896\n",
       "93  saskatchewan  2021  0.298976\n",
       "94  saskatchewan  2022  0.298894\n",
       "95  saskatchewan  2023  0.264676\n",
       "\n",
       "[96 rows x 3 columns]"
      ]
     },
     "execution_count": 5,
     "metadata": {},
     "output_type": "execute_result"
    }
   ],
   "source": [
    "sentiment"
   ]
  },
  {
   "cell_type": "code",
   "execution_count": 6,
   "id": "a81459fc-ef54-4a4a-bf44-6fe71a4e4b74",
   "metadata": {},
   "outputs": [],
   "source": [
    "sentiment_clean = sentiment[sentiment['year'] == 2022]"
   ]
  },
  {
   "cell_type": "code",
   "execution_count": 7,
   "id": "e3e42b9a-591b-4045-a1a3-2526cc269d91",
   "metadata": {},
   "outputs": [],
   "source": [
    "sentiment_clean = sentiment_clean.rename(columns={\"subreddit\":'GEO'})"
   ]
  },
  {
   "cell_type": "code",
   "execution_count": 8,
   "id": "0a03bba7-a5e5-4483-9376-3cfca0287e65",
   "metadata": {},
   "outputs": [],
   "source": [
    "sentiment_clean.loc[sentiment_clean['GEO'] == \"NovaScotia\", \"GEO\"] = 'Nova Scotia'\n",
    "sentiment_clean.loc[sentiment_clean['GEO'] == \"PEI\", \"GEO\"] = 'Prince Edward Island'\n",
    "sentiment_clean.loc[sentiment_clean['GEO'] == \"alberta\", \"GEO\"] = 'Alberta'\n",
    "sentiment_clean.loc[sentiment_clean['GEO'] == \"britishcolumbia\", \"GEO\"] = 'British Columbia'\n",
    "sentiment_clean.loc[sentiment_clean['GEO'] == \"newbrunswickcanada\", \"GEO\"] = 'New Brunswick'\n",
    "sentiment_clean.loc[sentiment_clean['GEO'] == \"newfoundland\", \"GEO\"] = 'Newfoundland and Labrador'\n",
    "sentiment_clean.loc[sentiment_clean['GEO'] == \"ontario\", \"GEO\"] = 'Ontario'\n",
    "sentiment_clean.loc[sentiment_clean['GEO'] == \"saskatchewan\", \"GEO\"] = 'Saskatchewan'"
   ]
  },
  {
   "cell_type": "code",
   "execution_count": 9,
   "id": "85f7b3f2-e382-49de-8ae4-e7abe726d765",
   "metadata": {},
   "outputs": [],
   "source": [
    "sentiment_clean = sentiment_clean[sentiment_clean['GEO'] != 'NWT']\n",
    "sentiment_clean = sentiment_clean[sentiment_clean['GEO'] != 'Yukon']\n",
    "sentiment_clean = sentiment_clean[sentiment_clean['GEO'] != 'nunavut']"
   ]
  },
  {
   "cell_type": "code",
   "execution_count": 10,
   "id": "53f189a4-eaad-4f48-b5ae-65681279cbae",
   "metadata": {},
   "outputs": [],
   "source": [
    "merged = pd.merge(sentiment_clean, income_1, on='GEO')"
   ]
  },
  {
   "cell_type": "code",
   "execution_count": 11,
   "id": "03b04fa9-dc0e-4029-8983-1643bfbde43f",
   "metadata": {},
   "outputs": [],
   "source": [
    "merged = merged.rename(columns={\"score\": \"Sentiment Score\"})"
   ]
  },
  {
   "cell_type": "code",
   "execution_count": 12,
   "id": "ea3cbec2-bf0e-4f69-bd69-996580677287",
   "metadata": {},
   "outputs": [
    {
     "data": {
      "text/html": [
       "<div>\n",
       "<style scoped>\n",
       "    .dataframe tbody tr th:only-of-type {\n",
       "        vertical-align: middle;\n",
       "    }\n",
       "\n",
       "    .dataframe tbody tr th {\n",
       "        vertical-align: top;\n",
       "    }\n",
       "\n",
       "    .dataframe thead th {\n",
       "        text-align: right;\n",
       "    }\n",
       "</style>\n",
       "<table border=\"1\" class=\"dataframe\">\n",
       "  <thead>\n",
       "    <tr style=\"text-align: right;\">\n",
       "      <th></th>\n",
       "      <th>GEO</th>\n",
       "      <th>year</th>\n",
       "      <th>Sentiment Score</th>\n",
       "      <th>VALUE</th>\n",
       "    </tr>\n",
       "  </thead>\n",
       "  <tbody>\n",
       "    <tr>\n",
       "      <th>0</th>\n",
       "      <td>Manitoba</td>\n",
       "      <td>2022</td>\n",
       "      <td>0.342205</td>\n",
       "      <td>41100</td>\n",
       "    </tr>\n",
       "    <tr>\n",
       "      <th>1</th>\n",
       "      <td>Nova Scotia</td>\n",
       "      <td>2022</td>\n",
       "      <td>0.387696</td>\n",
       "      <td>38700</td>\n",
       "    </tr>\n",
       "    <tr>\n",
       "      <th>2</th>\n",
       "      <td>Prince Edward Island</td>\n",
       "      <td>2022</td>\n",
       "      <td>0.365866</td>\n",
       "      <td>40900</td>\n",
       "    </tr>\n",
       "    <tr>\n",
       "      <th>3</th>\n",
       "      <td>Alberta</td>\n",
       "      <td>2022</td>\n",
       "      <td>0.306322</td>\n",
       "      <td>45200</td>\n",
       "    </tr>\n",
       "    <tr>\n",
       "      <th>4</th>\n",
       "      <td>British Columbia</td>\n",
       "      <td>2022</td>\n",
       "      <td>0.323016</td>\n",
       "      <td>43900</td>\n",
       "    </tr>\n",
       "    <tr>\n",
       "      <th>5</th>\n",
       "      <td>New Brunswick</td>\n",
       "      <td>2022</td>\n",
       "      <td>0.331267</td>\n",
       "      <td>40100</td>\n",
       "    </tr>\n",
       "    <tr>\n",
       "      <th>6</th>\n",
       "      <td>Newfoundland and Labrador</td>\n",
       "      <td>2022</td>\n",
       "      <td>0.345304</td>\n",
       "      <td>39100</td>\n",
       "    </tr>\n",
       "    <tr>\n",
       "      <th>7</th>\n",
       "      <td>Ontario</td>\n",
       "      <td>2022</td>\n",
       "      <td>0.246919</td>\n",
       "      <td>42700</td>\n",
       "    </tr>\n",
       "    <tr>\n",
       "      <th>8</th>\n",
       "      <td>Saskatchewan</td>\n",
       "      <td>2022</td>\n",
       "      <td>0.298894</td>\n",
       "      <td>43900</td>\n",
       "    </tr>\n",
       "  </tbody>\n",
       "</table>\n",
       "</div>"
      ],
      "text/plain": [
       "                         GEO  year  Sentiment Score  VALUE\n",
       "0                   Manitoba  2022         0.342205  41100\n",
       "1                Nova Scotia  2022         0.387696  38700\n",
       "2       Prince Edward Island  2022         0.365866  40900\n",
       "3                    Alberta  2022         0.306322  45200\n",
       "4           British Columbia  2022         0.323016  43900\n",
       "5              New Brunswick  2022         0.331267  40100\n",
       "6  Newfoundland and Labrador  2022         0.345304  39100\n",
       "7                    Ontario  2022         0.246919  42700\n",
       "8               Saskatchewan  2022         0.298894  43900"
      ]
     },
     "execution_count": 12,
     "metadata": {},
     "output_type": "execute_result"
    }
   ],
   "source": [
    "merged"
   ]
  },
  {
   "cell_type": "code",
   "execution_count": 13,
   "id": "27de610b-b640-4ca5-8eb0-336f4a0098de",
   "metadata": {},
   "outputs": [],
   "source": [
    "line = stats.linregress(merged['Sentiment Score'], merged['VALUE'])"
   ]
  },
  {
   "cell_type": "code",
   "execution_count": 14,
   "id": "30e4b56e-d466-4a81-8973-e14b4a250bf4",
   "metadata": {},
   "outputs": [],
   "source": [
    "merged['prediction'] = line.intercept + line.slope*merged['Sentiment Score']"
   ]
  },
  {
   "cell_type": "code",
   "execution_count": 15,
   "id": "457c1978-fb16-484b-9e6b-83ec6aea7235",
   "metadata": {},
   "outputs": [
    {
     "data": {
      "text/html": [
       "<div>\n",
       "<style scoped>\n",
       "    .dataframe tbody tr th:only-of-type {\n",
       "        vertical-align: middle;\n",
       "    }\n",
       "\n",
       "    .dataframe tbody tr th {\n",
       "        vertical-align: top;\n",
       "    }\n",
       "\n",
       "    .dataframe thead th {\n",
       "        text-align: right;\n",
       "    }\n",
       "</style>\n",
       "<table border=\"1\" class=\"dataframe\">\n",
       "  <thead>\n",
       "    <tr style=\"text-align: right;\">\n",
       "      <th></th>\n",
       "      <th>GEO</th>\n",
       "      <th>year</th>\n",
       "      <th>Sentiment Score</th>\n",
       "      <th>VALUE</th>\n",
       "      <th>prediction</th>\n",
       "    </tr>\n",
       "  </thead>\n",
       "  <tbody>\n",
       "    <tr>\n",
       "      <th>0</th>\n",
       "      <td>Manitoba</td>\n",
       "      <td>2022</td>\n",
       "      <td>0.342205</td>\n",
       "      <td>41100</td>\n",
       "      <td>41185.600002</td>\n",
       "    </tr>\n",
       "    <tr>\n",
       "      <th>1</th>\n",
       "      <td>Nova Scotia</td>\n",
       "      <td>2022</td>\n",
       "      <td>0.387696</td>\n",
       "      <td>38700</td>\n",
       "      <td>39491.387764</td>\n",
       "    </tr>\n",
       "    <tr>\n",
       "      <th>2</th>\n",
       "      <td>Prince Edward Island</td>\n",
       "      <td>2022</td>\n",
       "      <td>0.365866</td>\n",
       "      <td>40900</td>\n",
       "      <td>40304.408889</td>\n",
       "    </tr>\n",
       "    <tr>\n",
       "      <th>3</th>\n",
       "      <td>Alberta</td>\n",
       "      <td>2022</td>\n",
       "      <td>0.306322</td>\n",
       "      <td>45200</td>\n",
       "      <td>42522.033626</td>\n",
       "    </tr>\n",
       "    <tr>\n",
       "      <th>4</th>\n",
       "      <td>British Columbia</td>\n",
       "      <td>2022</td>\n",
       "      <td>0.323016</td>\n",
       "      <td>43900</td>\n",
       "      <td>41900.277093</td>\n",
       "    </tr>\n",
       "    <tr>\n",
       "      <th>5</th>\n",
       "      <td>New Brunswick</td>\n",
       "      <td>2022</td>\n",
       "      <td>0.331267</td>\n",
       "      <td>40100</td>\n",
       "      <td>41593.004139</td>\n",
       "    </tr>\n",
       "    <tr>\n",
       "      <th>6</th>\n",
       "      <td>Newfoundland and Labrador</td>\n",
       "      <td>2022</td>\n",
       "      <td>0.345304</td>\n",
       "      <td>39100</td>\n",
       "      <td>41070.212037</td>\n",
       "    </tr>\n",
       "    <tr>\n",
       "      <th>7</th>\n",
       "      <td>Ontario</td>\n",
       "      <td>2022</td>\n",
       "      <td>0.246919</td>\n",
       "      <td>42700</td>\n",
       "      <td>44734.390684</td>\n",
       "    </tr>\n",
       "    <tr>\n",
       "      <th>8</th>\n",
       "      <td>Saskatchewan</td>\n",
       "      <td>2022</td>\n",
       "      <td>0.298894</td>\n",
       "      <td>43900</td>\n",
       "      <td>42798.685765</td>\n",
       "    </tr>\n",
       "  </tbody>\n",
       "</table>\n",
       "</div>"
      ],
      "text/plain": [
       "                         GEO  year  Sentiment Score  VALUE    prediction\n",
       "0                   Manitoba  2022         0.342205  41100  41185.600002\n",
       "1                Nova Scotia  2022         0.387696  38700  39491.387764\n",
       "2       Prince Edward Island  2022         0.365866  40900  40304.408889\n",
       "3                    Alberta  2022         0.306322  45200  42522.033626\n",
       "4           British Columbia  2022         0.323016  43900  41900.277093\n",
       "5              New Brunswick  2022         0.331267  40100  41593.004139\n",
       "6  Newfoundland and Labrador  2022         0.345304  39100  41070.212037\n",
       "7                    Ontario  2022         0.246919  42700  44734.390684\n",
       "8               Saskatchewan  2022         0.298894  43900  42798.685765"
      ]
     },
     "execution_count": 15,
     "metadata": {},
     "output_type": "execute_result"
    }
   ],
   "source": [
    "merged"
   ]
  },
  {
   "cell_type": "code",
   "execution_count": 16,
   "id": "7e8ba886-7c9e-4791-8c0a-a3011cc5ea08",
   "metadata": {},
   "outputs": [
    {
     "data": {
      "text/plain": [
       "LinregressResult(slope=-37243.4783523277, intercept=53930.523050551186, rvalue=-0.6639174791161782, pvalue=0.051166284549207304, stderr=15855.354899944163, intercept_stderr=5228.586225463731)"
      ]
     },
     "execution_count": 16,
     "metadata": {},
     "output_type": "execute_result"
    }
   ],
   "source": [
    "line"
   ]
  },
  {
   "cell_type": "code",
   "execution_count": 17,
   "id": "452e333c-6be2-4b98-95db-92b80fa26da9",
   "metadata": {},
   "outputs": [
    {
     "data": {
      "text/plain": [
       "<Figure size 640x480 with 0 Axes>"
      ]
     },
     "metadata": {},
     "output_type": "display_data"
    },
    {
     "data": {
      "image/png": "[encoded data removed]",
      "text/plain": [
       "<Figure size 640x480 with 1 Axes>"
      ]
     },
     "metadata": {},
     "output_type": "display_data"
    }
   ],
   "source": [
    "seaborn.set()\n",
    "plt.figure()\n",
    "fig, ax = plt.subplots()\n",
    "ax.scatter(merged['Sentiment Score'], merged['VALUE'])\n",
    "for i, province in enumerate(merged['GEO']):\n",
    "    ax.text(merged['Sentiment Score'][i], merged['VALUE'][i] + 150, province, fontsize=7, ha='center')\n",
    "ax.set_title('Average Sentiment Score vs Median Income per Province, 2022')\n",
    "ax.set_xlabel('Sentiment Score')\n",
    "ax.set_ylabel('Median Income')\n",
    "ax.plot(merged['Sentiment Score'], merged['prediction'], 'r-', linewidth=2)\n",
    "ax.legend(['Provincial Scores', 'Linear Regression Line'], loc='lower left')\n",
    "plt.savefig('../plots/sentiment_vs_income')"
   ]
  }
 ],
 "metadata": {
  "kernelspec": {
   "display_name": "Python 3 (ipykernel)",
   "language": "python",
   "name": "python3"
  },
  "language_info": {
   "codemirror_mode": {
    "name": "ipython",
    "version": 3
   },
   "file_extension": ".py",
   "mimetype": "text/x-python",
   "name": "python",
   "nbconvert_exporter": "python",
   "pygments_lexer": "ipython3",
   "version": "3.11.7"
  }
 },
 "nbformat": 4,
 "nbformat_minor": 5
}
